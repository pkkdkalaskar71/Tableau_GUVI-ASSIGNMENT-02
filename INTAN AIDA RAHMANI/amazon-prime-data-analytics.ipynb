{
 "cells": [
  {
   "cell_type": "code",
   "execution_count": 1,
   "id": "5718f9ae",
   "metadata": {
    "_cell_guid": "b1076dfc-b9ad-4769-8c92-a6c4dae69d19",
    "_uuid": "8f2839f25d086af736a60e9eeb907d3b93b6e0e5",
    "execution": {
     "iopub.execute_input": "2023-07-02T13:46:41.146255Z",
     "iopub.status.busy": "2023-07-02T13:46:41.145554Z",
     "iopub.status.idle": "2023-07-02T13:46:42.778134Z",
     "shell.execute_reply": "2023-07-02T13:46:42.777057Z"
    },
    "papermill": {
     "duration": 1.652111,
     "end_time": "2023-07-02T13:46:42.781309",
     "exception": false,
     "start_time": "2023-07-02T13:46:41.129198",
     "status": "completed"
    },
    "tags": []
   },
   "outputs": [],
   "source": [
    "import numpy as np\n",
    "import pandas as pd\n",
    "\n",
    "import seaborn as sns\n",
    "import matplotlib.pyplot as plt"
   ]
  },
  {
   "cell_type": "markdown",
   "id": "a217c078",
   "metadata": {
    "papermill": {
     "duration": 0.01115,
     "end_time": "2023-07-02T13:46:42.804648",
     "exception": false,
     "start_time": "2023-07-02T13:46:42.793498",
     "status": "completed"
    },
    "tags": []
   },
   "source": [
    "## Input Data"
   ]
  },
  {
   "cell_type": "code",
   "execution_count": 2,
   "id": "f8ac9a5d",
   "metadata": {
    "execution": {
     "iopub.execute_input": "2023-07-02T13:46:42.829728Z",
     "iopub.status.busy": "2023-07-02T13:46:42.829238Z",
     "iopub.status.idle": "2023-07-02T13:46:43.053562Z",
     "shell.execute_reply": "2023-07-02T13:46:43.052485Z"
    },
    "papermill": {
     "duration": 0.240811,
     "end_time": "2023-07-02T13:46:43.057066",
     "exception": false,
     "start_time": "2023-07-02T13:46:42.816255",
     "status": "completed"
    },
    "tags": []
   },
   "outputs": [
    {
     "data": {
      "text/html": [
       "<div>\n",
       "<style scoped>\n",
       "    .dataframe tbody tr th:only-of-type {\n",
       "        vertical-align: middle;\n",
       "    }\n",
       "\n",
       "    .dataframe tbody tr th {\n",
       "        vertical-align: top;\n",
       "    }\n",
       "\n",
       "    .dataframe thead th {\n",
       "        text-align: right;\n",
       "    }\n",
       "</style>\n",
       "<table border=\"1\" class=\"dataframe\">\n",
       "  <thead>\n",
       "    <tr style=\"text-align: right;\">\n",
       "      <th></th>\n",
       "      <th>show_id</th>\n",
       "      <th>type</th>\n",
       "      <th>title</th>\n",
       "      <th>director</th>\n",
       "      <th>cast</th>\n",
       "      <th>country</th>\n",
       "      <th>date_added</th>\n",
       "      <th>release_year</th>\n",
       "      <th>rating</th>\n",
       "      <th>duration</th>\n",
       "      <th>listed_in</th>\n",
       "      <th>description</th>\n",
       "    </tr>\n",
       "  </thead>\n",
       "  <tbody>\n",
       "    <tr>\n",
       "      <th>0</th>\n",
       "      <td>s1</td>\n",
       "      <td>Movie</td>\n",
       "      <td>The Grand Seduction</td>\n",
       "      <td>Don McKellar</td>\n",
       "      <td>Brendan Gleeson, Taylor Kitsch, Gordon Pinsent</td>\n",
       "      <td>Canada</td>\n",
       "      <td>March 30, 2021</td>\n",
       "      <td>2014</td>\n",
       "      <td>NaN</td>\n",
       "      <td>113 min</td>\n",
       "      <td>Comedy, Drama</td>\n",
       "      <td>A small fishing village must procure a local d...</td>\n",
       "    </tr>\n",
       "    <tr>\n",
       "      <th>1</th>\n",
       "      <td>s2</td>\n",
       "      <td>Movie</td>\n",
       "      <td>Take Care Good Night</td>\n",
       "      <td>Girish Joshi</td>\n",
       "      <td>Mahesh Manjrekar, Abhay Mahajan, Sachin Khedekar</td>\n",
       "      <td>India</td>\n",
       "      <td>March 30, 2021</td>\n",
       "      <td>2018</td>\n",
       "      <td>13+</td>\n",
       "      <td>110 min</td>\n",
       "      <td>Drama, International</td>\n",
       "      <td>A Metro Family decides to fight a Cyber Crimin...</td>\n",
       "    </tr>\n",
       "    <tr>\n",
       "      <th>2</th>\n",
       "      <td>s3</td>\n",
       "      <td>Movie</td>\n",
       "      <td>Secrets of Deception</td>\n",
       "      <td>Josh Webber</td>\n",
       "      <td>Tom Sizemore, Lorenzo Lamas, Robert LaSardo, R...</td>\n",
       "      <td>United States</td>\n",
       "      <td>March 30, 2021</td>\n",
       "      <td>2017</td>\n",
       "      <td>NaN</td>\n",
       "      <td>74 min</td>\n",
       "      <td>Action, Drama, Suspense</td>\n",
       "      <td>After a man discovers his wife is cheating on ...</td>\n",
       "    </tr>\n",
       "    <tr>\n",
       "      <th>3</th>\n",
       "      <td>s4</td>\n",
       "      <td>Movie</td>\n",
       "      <td>Pink: Staying True</td>\n",
       "      <td>Sonia Anderson</td>\n",
       "      <td>Interviews with: Pink, Adele, Beyoncé, Britney...</td>\n",
       "      <td>United States</td>\n",
       "      <td>March 30, 2021</td>\n",
       "      <td>2014</td>\n",
       "      <td>NaN</td>\n",
       "      <td>69 min</td>\n",
       "      <td>Documentary</td>\n",
       "      <td>Pink breaks the mold once again, bringing her ...</td>\n",
       "    </tr>\n",
       "    <tr>\n",
       "      <th>4</th>\n",
       "      <td>s5</td>\n",
       "      <td>Movie</td>\n",
       "      <td>Monster Maker</td>\n",
       "      <td>Giles Foster</td>\n",
       "      <td>Harry Dean Stanton, Kieran O'Brien, George Cos...</td>\n",
       "      <td>United Kingdom</td>\n",
       "      <td>March 30, 2021</td>\n",
       "      <td>1989</td>\n",
       "      <td>NaN</td>\n",
       "      <td>45 min</td>\n",
       "      <td>Drama, Fantasy</td>\n",
       "      <td>Teenage Matt Banting wants to work with a famo...</td>\n",
       "    </tr>\n",
       "    <tr>\n",
       "      <th>...</th>\n",
       "      <td>...</td>\n",
       "      <td>...</td>\n",
       "      <td>...</td>\n",
       "      <td>...</td>\n",
       "      <td>...</td>\n",
       "      <td>...</td>\n",
       "      <td>...</td>\n",
       "      <td>...</td>\n",
       "      <td>...</td>\n",
       "      <td>...</td>\n",
       "      <td>...</td>\n",
       "      <td>...</td>\n",
       "    </tr>\n",
       "    <tr>\n",
       "      <th>9663</th>\n",
       "      <td>s9664</td>\n",
       "      <td>Movie</td>\n",
       "      <td>Pride Of The Bowery</td>\n",
       "      <td>Joseph H. Lewis</td>\n",
       "      <td>Leo Gorcey, Bobby Jordan</td>\n",
       "      <td>NaN</td>\n",
       "      <td>NaN</td>\n",
       "      <td>1940</td>\n",
       "      <td>7+</td>\n",
       "      <td>60 min</td>\n",
       "      <td>Comedy</td>\n",
       "      <td>New York City street principles get an East Si...</td>\n",
       "    </tr>\n",
       "    <tr>\n",
       "      <th>9664</th>\n",
       "      <td>s9665</td>\n",
       "      <td>TV Show</td>\n",
       "      <td>Planet Patrol</td>\n",
       "      <td>NaN</td>\n",
       "      <td>DICK VOSBURGH, RONNIE STEVENS, LIBBY MORRIS, M...</td>\n",
       "      <td>NaN</td>\n",
       "      <td>NaN</td>\n",
       "      <td>2018</td>\n",
       "      <td>13+</td>\n",
       "      <td>4 Seasons</td>\n",
       "      <td>TV Shows</td>\n",
       "      <td>This is Earth, 2100AD - and these are the adve...</td>\n",
       "    </tr>\n",
       "    <tr>\n",
       "      <th>9665</th>\n",
       "      <td>s9666</td>\n",
       "      <td>Movie</td>\n",
       "      <td>Outpost</td>\n",
       "      <td>Steve Barker</td>\n",
       "      <td>Ray Stevenson, Julian Wadham, Richard Brake, M...</td>\n",
       "      <td>NaN</td>\n",
       "      <td>NaN</td>\n",
       "      <td>2008</td>\n",
       "      <td>R</td>\n",
       "      <td>90 min</td>\n",
       "      <td>Action</td>\n",
       "      <td>In war-torn Eastern Europe, a world-weary grou...</td>\n",
       "    </tr>\n",
       "    <tr>\n",
       "      <th>9666</th>\n",
       "      <td>s9667</td>\n",
       "      <td>TV Show</td>\n",
       "      <td>Maradona: Blessed Dream</td>\n",
       "      <td>NaN</td>\n",
       "      <td>Esteban Recagno, Ezequiel Stremiz, Luciano Vit...</td>\n",
       "      <td>NaN</td>\n",
       "      <td>NaN</td>\n",
       "      <td>2021</td>\n",
       "      <td>TV-MA</td>\n",
       "      <td>1 Season</td>\n",
       "      <td>Drama, Sports</td>\n",
       "      <td>The series tells the story of Diego Maradona, ...</td>\n",
       "    </tr>\n",
       "    <tr>\n",
       "      <th>9667</th>\n",
       "      <td>s9668</td>\n",
       "      <td>Movie</td>\n",
       "      <td>Harry Brown</td>\n",
       "      <td>Daniel Barber</td>\n",
       "      <td>Michael Caine, Emily Mortimer, Joseph Gilgun, ...</td>\n",
       "      <td>NaN</td>\n",
       "      <td>NaN</td>\n",
       "      <td>2010</td>\n",
       "      <td>R</td>\n",
       "      <td>103 min</td>\n",
       "      <td>Action, Drama, Suspense</td>\n",
       "      <td>Harry Brown, starring two-time Academy Award w...</td>\n",
       "    </tr>\n",
       "  </tbody>\n",
       "</table>\n",
       "<p>9668 rows × 12 columns</p>\n",
       "</div>"
      ],
      "text/plain": [
       "     show_id     type                    title         director  \\\n",
       "0         s1    Movie      The Grand Seduction     Don McKellar   \n",
       "1         s2    Movie     Take Care Good Night     Girish Joshi   \n",
       "2         s3    Movie     Secrets of Deception      Josh Webber   \n",
       "3         s4    Movie       Pink: Staying True   Sonia Anderson   \n",
       "4         s5    Movie            Monster Maker     Giles Foster   \n",
       "...      ...      ...                      ...              ...   \n",
       "9663   s9664    Movie      Pride Of The Bowery  Joseph H. Lewis   \n",
       "9664   s9665  TV Show            Planet Patrol              NaN   \n",
       "9665   s9666    Movie                  Outpost     Steve Barker   \n",
       "9666   s9667  TV Show  Maradona: Blessed Dream              NaN   \n",
       "9667   s9668    Movie              Harry Brown    Daniel Barber   \n",
       "\n",
       "                                                   cast         country  \\\n",
       "0        Brendan Gleeson, Taylor Kitsch, Gordon Pinsent          Canada   \n",
       "1      Mahesh Manjrekar, Abhay Mahajan, Sachin Khedekar           India   \n",
       "2     Tom Sizemore, Lorenzo Lamas, Robert LaSardo, R...   United States   \n",
       "3     Interviews with: Pink, Adele, Beyoncé, Britney...   United States   \n",
       "4     Harry Dean Stanton, Kieran O'Brien, George Cos...  United Kingdom   \n",
       "...                                                 ...             ...   \n",
       "9663                           Leo Gorcey, Bobby Jordan             NaN   \n",
       "9664  DICK VOSBURGH, RONNIE STEVENS, LIBBY MORRIS, M...             NaN   \n",
       "9665  Ray Stevenson, Julian Wadham, Richard Brake, M...             NaN   \n",
       "9666  Esteban Recagno, Ezequiel Stremiz, Luciano Vit...             NaN   \n",
       "9667  Michael Caine, Emily Mortimer, Joseph Gilgun, ...             NaN   \n",
       "\n",
       "          date_added  release_year rating   duration                listed_in  \\\n",
       "0     March 30, 2021          2014    NaN    113 min            Comedy, Drama   \n",
       "1     March 30, 2021          2018    13+    110 min     Drama, International   \n",
       "2     March 30, 2021          2017    NaN     74 min  Action, Drama, Suspense   \n",
       "3     March 30, 2021          2014    NaN     69 min              Documentary   \n",
       "4     March 30, 2021          1989    NaN     45 min           Drama, Fantasy   \n",
       "...              ...           ...    ...        ...                      ...   \n",
       "9663             NaN          1940     7+     60 min                   Comedy   \n",
       "9664             NaN          2018    13+  4 Seasons                 TV Shows   \n",
       "9665             NaN          2008      R     90 min                   Action   \n",
       "9666             NaN          2021  TV-MA   1 Season            Drama, Sports   \n",
       "9667             NaN          2010      R    103 min  Action, Drama, Suspense   \n",
       "\n",
       "                                            description  \n",
       "0     A small fishing village must procure a local d...  \n",
       "1     A Metro Family decides to fight a Cyber Crimin...  \n",
       "2     After a man discovers his wife is cheating on ...  \n",
       "3     Pink breaks the mold once again, bringing her ...  \n",
       "4     Teenage Matt Banting wants to work with a famo...  \n",
       "...                                                 ...  \n",
       "9663  New York City street principles get an East Si...  \n",
       "9664  This is Earth, 2100AD - and these are the adve...  \n",
       "9665  In war-torn Eastern Europe, a world-weary grou...  \n",
       "9666  The series tells the story of Diego Maradona, ...  \n",
       "9667  Harry Brown, starring two-time Academy Award w...  \n",
       "\n",
       "[9668 rows x 12 columns]"
      ]
     },
     "execution_count": 2,
     "metadata": {},
     "output_type": "execute_result"
    }
   ],
   "source": [
    "df = pd.read_csv('/kaggle/input/amazon-prime-movies-and-tv-shows/amazon_prime_titles.csv')\n",
    "df"
   ]
  },
  {
   "cell_type": "code",
   "execution_count": 3,
   "id": "a475c574",
   "metadata": {
    "execution": {
     "iopub.execute_input": "2023-07-02T13:46:43.084195Z",
     "iopub.status.busy": "2023-07-02T13:46:43.083703Z",
     "iopub.status.idle": "2023-07-02T13:46:43.111328Z",
     "shell.execute_reply": "2023-07-02T13:46:43.110060Z"
    },
    "papermill": {
     "duration": 0.044634,
     "end_time": "2023-07-02T13:46:43.114349",
     "exception": false,
     "start_time": "2023-07-02T13:46:43.069715",
     "status": "completed"
    },
    "tags": []
   },
   "outputs": [
    {
     "data": {
      "text/html": [
       "<div>\n",
       "<style scoped>\n",
       "    .dataframe tbody tr th:only-of-type {\n",
       "        vertical-align: middle;\n",
       "    }\n",
       "\n",
       "    .dataframe tbody tr th {\n",
       "        vertical-align: top;\n",
       "    }\n",
       "\n",
       "    .dataframe thead th {\n",
       "        text-align: right;\n",
       "    }\n",
       "</style>\n",
       "<table border=\"1\" class=\"dataframe\">\n",
       "  <thead>\n",
       "    <tr style=\"text-align: right;\">\n",
       "      <th></th>\n",
       "      <th>show_id</th>\n",
       "      <th>type</th>\n",
       "      <th>title</th>\n",
       "      <th>director</th>\n",
       "      <th>cast</th>\n",
       "      <th>country</th>\n",
       "      <th>date_added</th>\n",
       "      <th>release_year</th>\n",
       "      <th>rating</th>\n",
       "      <th>duration</th>\n",
       "      <th>categories</th>\n",
       "      <th>description</th>\n",
       "    </tr>\n",
       "  </thead>\n",
       "  <tbody>\n",
       "    <tr>\n",
       "      <th>0</th>\n",
       "      <td>s1</td>\n",
       "      <td>Movie</td>\n",
       "      <td>The Grand Seduction</td>\n",
       "      <td>Don McKellar</td>\n",
       "      <td>Brendan Gleeson, Taylor Kitsch, Gordon Pinsent</td>\n",
       "      <td>Canada</td>\n",
       "      <td>March 30, 2021</td>\n",
       "      <td>2014</td>\n",
       "      <td>NaN</td>\n",
       "      <td>113 min</td>\n",
       "      <td>Comedy, Drama</td>\n",
       "      <td>A small fishing village must procure a local d...</td>\n",
       "    </tr>\n",
       "    <tr>\n",
       "      <th>1</th>\n",
       "      <td>s2</td>\n",
       "      <td>Movie</td>\n",
       "      <td>Take Care Good Night</td>\n",
       "      <td>Girish Joshi</td>\n",
       "      <td>Mahesh Manjrekar, Abhay Mahajan, Sachin Khedekar</td>\n",
       "      <td>India</td>\n",
       "      <td>March 30, 2021</td>\n",
       "      <td>2018</td>\n",
       "      <td>13+</td>\n",
       "      <td>110 min</td>\n",
       "      <td>Drama, International</td>\n",
       "      <td>A Metro Family decides to fight a Cyber Crimin...</td>\n",
       "    </tr>\n",
       "    <tr>\n",
       "      <th>2</th>\n",
       "      <td>s3</td>\n",
       "      <td>Movie</td>\n",
       "      <td>Secrets of Deception</td>\n",
       "      <td>Josh Webber</td>\n",
       "      <td>Tom Sizemore, Lorenzo Lamas, Robert LaSardo, R...</td>\n",
       "      <td>United States</td>\n",
       "      <td>March 30, 2021</td>\n",
       "      <td>2017</td>\n",
       "      <td>NaN</td>\n",
       "      <td>74 min</td>\n",
       "      <td>Action, Drama, Suspense</td>\n",
       "      <td>After a man discovers his wife is cheating on ...</td>\n",
       "    </tr>\n",
       "    <tr>\n",
       "      <th>3</th>\n",
       "      <td>s4</td>\n",
       "      <td>Movie</td>\n",
       "      <td>Pink: Staying True</td>\n",
       "      <td>Sonia Anderson</td>\n",
       "      <td>Interviews with: Pink, Adele, Beyoncé, Britney...</td>\n",
       "      <td>United States</td>\n",
       "      <td>March 30, 2021</td>\n",
       "      <td>2014</td>\n",
       "      <td>NaN</td>\n",
       "      <td>69 min</td>\n",
       "      <td>Documentary</td>\n",
       "      <td>Pink breaks the mold once again, bringing her ...</td>\n",
       "    </tr>\n",
       "    <tr>\n",
       "      <th>4</th>\n",
       "      <td>s5</td>\n",
       "      <td>Movie</td>\n",
       "      <td>Monster Maker</td>\n",
       "      <td>Giles Foster</td>\n",
       "      <td>Harry Dean Stanton, Kieran O'Brien, George Cos...</td>\n",
       "      <td>United Kingdom</td>\n",
       "      <td>March 30, 2021</td>\n",
       "      <td>1989</td>\n",
       "      <td>NaN</td>\n",
       "      <td>45 min</td>\n",
       "      <td>Drama, Fantasy</td>\n",
       "      <td>Teenage Matt Banting wants to work with a famo...</td>\n",
       "    </tr>\n",
       "    <tr>\n",
       "      <th>...</th>\n",
       "      <td>...</td>\n",
       "      <td>...</td>\n",
       "      <td>...</td>\n",
       "      <td>...</td>\n",
       "      <td>...</td>\n",
       "      <td>...</td>\n",
       "      <td>...</td>\n",
       "      <td>...</td>\n",
       "      <td>...</td>\n",
       "      <td>...</td>\n",
       "      <td>...</td>\n",
       "      <td>...</td>\n",
       "    </tr>\n",
       "    <tr>\n",
       "      <th>9663</th>\n",
       "      <td>s9664</td>\n",
       "      <td>Movie</td>\n",
       "      <td>Pride Of The Bowery</td>\n",
       "      <td>Joseph H. Lewis</td>\n",
       "      <td>Leo Gorcey, Bobby Jordan</td>\n",
       "      <td>NaN</td>\n",
       "      <td>NaN</td>\n",
       "      <td>1940</td>\n",
       "      <td>7+</td>\n",
       "      <td>60 min</td>\n",
       "      <td>Comedy</td>\n",
       "      <td>New York City street principles get an East Si...</td>\n",
       "    </tr>\n",
       "    <tr>\n",
       "      <th>9664</th>\n",
       "      <td>s9665</td>\n",
       "      <td>TV Show</td>\n",
       "      <td>Planet Patrol</td>\n",
       "      <td>NaN</td>\n",
       "      <td>DICK VOSBURGH, RONNIE STEVENS, LIBBY MORRIS, M...</td>\n",
       "      <td>NaN</td>\n",
       "      <td>NaN</td>\n",
       "      <td>2018</td>\n",
       "      <td>13+</td>\n",
       "      <td>4 Seasons</td>\n",
       "      <td>TV Shows</td>\n",
       "      <td>This is Earth, 2100AD - and these are the adve...</td>\n",
       "    </tr>\n",
       "    <tr>\n",
       "      <th>9665</th>\n",
       "      <td>s9666</td>\n",
       "      <td>Movie</td>\n",
       "      <td>Outpost</td>\n",
       "      <td>Steve Barker</td>\n",
       "      <td>Ray Stevenson, Julian Wadham, Richard Brake, M...</td>\n",
       "      <td>NaN</td>\n",
       "      <td>NaN</td>\n",
       "      <td>2008</td>\n",
       "      <td>R</td>\n",
       "      <td>90 min</td>\n",
       "      <td>Action</td>\n",
       "      <td>In war-torn Eastern Europe, a world-weary grou...</td>\n",
       "    </tr>\n",
       "    <tr>\n",
       "      <th>9666</th>\n",
       "      <td>s9667</td>\n",
       "      <td>TV Show</td>\n",
       "      <td>Maradona: Blessed Dream</td>\n",
       "      <td>NaN</td>\n",
       "      <td>Esteban Recagno, Ezequiel Stremiz, Luciano Vit...</td>\n",
       "      <td>NaN</td>\n",
       "      <td>NaN</td>\n",
       "      <td>2021</td>\n",
       "      <td>TV-MA</td>\n",
       "      <td>1 Season</td>\n",
       "      <td>Drama, Sports</td>\n",
       "      <td>The series tells the story of Diego Maradona, ...</td>\n",
       "    </tr>\n",
       "    <tr>\n",
       "      <th>9667</th>\n",
       "      <td>s9668</td>\n",
       "      <td>Movie</td>\n",
       "      <td>Harry Brown</td>\n",
       "      <td>Daniel Barber</td>\n",
       "      <td>Michael Caine, Emily Mortimer, Joseph Gilgun, ...</td>\n",
       "      <td>NaN</td>\n",
       "      <td>NaN</td>\n",
       "      <td>2010</td>\n",
       "      <td>R</td>\n",
       "      <td>103 min</td>\n",
       "      <td>Action, Drama, Suspense</td>\n",
       "      <td>Harry Brown, starring two-time Academy Award w...</td>\n",
       "    </tr>\n",
       "  </tbody>\n",
       "</table>\n",
       "<p>9668 rows × 12 columns</p>\n",
       "</div>"
      ],
      "text/plain": [
       "     show_id     type                    title         director  \\\n",
       "0         s1    Movie      The Grand Seduction     Don McKellar   \n",
       "1         s2    Movie     Take Care Good Night     Girish Joshi   \n",
       "2         s3    Movie     Secrets of Deception      Josh Webber   \n",
       "3         s4    Movie       Pink: Staying True   Sonia Anderson   \n",
       "4         s5    Movie            Monster Maker     Giles Foster   \n",
       "...      ...      ...                      ...              ...   \n",
       "9663   s9664    Movie      Pride Of The Bowery  Joseph H. Lewis   \n",
       "9664   s9665  TV Show            Planet Patrol              NaN   \n",
       "9665   s9666    Movie                  Outpost     Steve Barker   \n",
       "9666   s9667  TV Show  Maradona: Blessed Dream              NaN   \n",
       "9667   s9668    Movie              Harry Brown    Daniel Barber   \n",
       "\n",
       "                                                   cast         country  \\\n",
       "0        Brendan Gleeson, Taylor Kitsch, Gordon Pinsent          Canada   \n",
       "1      Mahesh Manjrekar, Abhay Mahajan, Sachin Khedekar           India   \n",
       "2     Tom Sizemore, Lorenzo Lamas, Robert LaSardo, R...   United States   \n",
       "3     Interviews with: Pink, Adele, Beyoncé, Britney...   United States   \n",
       "4     Harry Dean Stanton, Kieran O'Brien, George Cos...  United Kingdom   \n",
       "...                                                 ...             ...   \n",
       "9663                           Leo Gorcey, Bobby Jordan             NaN   \n",
       "9664  DICK VOSBURGH, RONNIE STEVENS, LIBBY MORRIS, M...             NaN   \n",
       "9665  Ray Stevenson, Julian Wadham, Richard Brake, M...             NaN   \n",
       "9666  Esteban Recagno, Ezequiel Stremiz, Luciano Vit...             NaN   \n",
       "9667  Michael Caine, Emily Mortimer, Joseph Gilgun, ...             NaN   \n",
       "\n",
       "          date_added  release_year rating   duration               categories  \\\n",
       "0     March 30, 2021          2014    NaN    113 min            Comedy, Drama   \n",
       "1     March 30, 2021          2018    13+    110 min     Drama, International   \n",
       "2     March 30, 2021          2017    NaN     74 min  Action, Drama, Suspense   \n",
       "3     March 30, 2021          2014    NaN     69 min              Documentary   \n",
       "4     March 30, 2021          1989    NaN     45 min           Drama, Fantasy   \n",
       "...              ...           ...    ...        ...                      ...   \n",
       "9663             NaN          1940     7+     60 min                   Comedy   \n",
       "9664             NaN          2018    13+  4 Seasons                 TV Shows   \n",
       "9665             NaN          2008      R     90 min                   Action   \n",
       "9666             NaN          2021  TV-MA   1 Season            Drama, Sports   \n",
       "9667             NaN          2010      R    103 min  Action, Drama, Suspense   \n",
       "\n",
       "                                            description  \n",
       "0     A small fishing village must procure a local d...  \n",
       "1     A Metro Family decides to fight a Cyber Crimin...  \n",
       "2     After a man discovers his wife is cheating on ...  \n",
       "3     Pink breaks the mold once again, bringing her ...  \n",
       "4     Teenage Matt Banting wants to work with a famo...  \n",
       "...                                                 ...  \n",
       "9663  New York City street principles get an East Si...  \n",
       "9664  This is Earth, 2100AD - and these are the adve...  \n",
       "9665  In war-torn Eastern Europe, a world-weary grou...  \n",
       "9666  The series tells the story of Diego Maradona, ...  \n",
       "9667  Harry Brown, starring two-time Academy Award w...  \n",
       "\n",
       "[9668 rows x 12 columns]"
      ]
     },
     "execution_count": 3,
     "metadata": {},
     "output_type": "execute_result"
    }
   ],
   "source": [
    "df.rename(columns={'listed_in':'categories'},inplace=True)\n",
    "df"
   ]
  },
  {
   "cell_type": "markdown",
   "id": "9cf6ebb2",
   "metadata": {
    "papermill": {
     "duration": 0.01232,
     "end_time": "2023-07-02T13:46:43.139430",
     "exception": false,
     "start_time": "2023-07-02T13:46:43.127110",
     "status": "completed"
    },
    "tags": []
   },
   "source": [
    "### Drop the columns that we won't to involved in analysis"
   ]
  },
  {
   "cell_type": "code",
   "execution_count": 4,
   "id": "f5f9085b",
   "metadata": {
    "execution": {
     "iopub.execute_input": "2023-07-02T13:46:43.167352Z",
     "iopub.status.busy": "2023-07-02T13:46:43.166410Z",
     "iopub.status.idle": "2023-07-02T13:46:43.197708Z",
     "shell.execute_reply": "2023-07-02T13:46:43.196519Z"
    },
    "papermill": {
     "duration": 0.048699,
     "end_time": "2023-07-02T13:46:43.200921",
     "exception": false,
     "start_time": "2023-07-02T13:46:43.152222",
     "status": "completed"
    },
    "tags": []
   },
   "outputs": [
    {
     "data": {
      "text/html": [
       "<div>\n",
       "<style scoped>\n",
       "    .dataframe tbody tr th:only-of-type {\n",
       "        vertical-align: middle;\n",
       "    }\n",
       "\n",
       "    .dataframe tbody tr th {\n",
       "        vertical-align: top;\n",
       "    }\n",
       "\n",
       "    .dataframe thead th {\n",
       "        text-align: right;\n",
       "    }\n",
       "</style>\n",
       "<table border=\"1\" class=\"dataframe\">\n",
       "  <thead>\n",
       "    <tr style=\"text-align: right;\">\n",
       "      <th></th>\n",
       "      <th>type</th>\n",
       "      <th>title</th>\n",
       "      <th>director</th>\n",
       "      <th>cast</th>\n",
       "      <th>country</th>\n",
       "      <th>date_added</th>\n",
       "      <th>release_year</th>\n",
       "      <th>rating</th>\n",
       "      <th>duration</th>\n",
       "      <th>categories</th>\n",
       "    </tr>\n",
       "  </thead>\n",
       "  <tbody>\n",
       "    <tr>\n",
       "      <th>0</th>\n",
       "      <td>Movie</td>\n",
       "      <td>The Grand Seduction</td>\n",
       "      <td>Don McKellar</td>\n",
       "      <td>Brendan Gleeson, Taylor Kitsch, Gordon Pinsent</td>\n",
       "      <td>Canada</td>\n",
       "      <td>March 30, 2021</td>\n",
       "      <td>2014</td>\n",
       "      <td>NaN</td>\n",
       "      <td>113 min</td>\n",
       "      <td>Comedy, Drama</td>\n",
       "    </tr>\n",
       "    <tr>\n",
       "      <th>1</th>\n",
       "      <td>Movie</td>\n",
       "      <td>Take Care Good Night</td>\n",
       "      <td>Girish Joshi</td>\n",
       "      <td>Mahesh Manjrekar, Abhay Mahajan, Sachin Khedekar</td>\n",
       "      <td>India</td>\n",
       "      <td>March 30, 2021</td>\n",
       "      <td>2018</td>\n",
       "      <td>13+</td>\n",
       "      <td>110 min</td>\n",
       "      <td>Drama, International</td>\n",
       "    </tr>\n",
       "    <tr>\n",
       "      <th>2</th>\n",
       "      <td>Movie</td>\n",
       "      <td>Secrets of Deception</td>\n",
       "      <td>Josh Webber</td>\n",
       "      <td>Tom Sizemore, Lorenzo Lamas, Robert LaSardo, R...</td>\n",
       "      <td>United States</td>\n",
       "      <td>March 30, 2021</td>\n",
       "      <td>2017</td>\n",
       "      <td>NaN</td>\n",
       "      <td>74 min</td>\n",
       "      <td>Action, Drama, Suspense</td>\n",
       "    </tr>\n",
       "    <tr>\n",
       "      <th>3</th>\n",
       "      <td>Movie</td>\n",
       "      <td>Pink: Staying True</td>\n",
       "      <td>Sonia Anderson</td>\n",
       "      <td>Interviews with: Pink, Adele, Beyoncé, Britney...</td>\n",
       "      <td>United States</td>\n",
       "      <td>March 30, 2021</td>\n",
       "      <td>2014</td>\n",
       "      <td>NaN</td>\n",
       "      <td>69 min</td>\n",
       "      <td>Documentary</td>\n",
       "    </tr>\n",
       "    <tr>\n",
       "      <th>4</th>\n",
       "      <td>Movie</td>\n",
       "      <td>Monster Maker</td>\n",
       "      <td>Giles Foster</td>\n",
       "      <td>Harry Dean Stanton, Kieran O'Brien, George Cos...</td>\n",
       "      <td>United Kingdom</td>\n",
       "      <td>March 30, 2021</td>\n",
       "      <td>1989</td>\n",
       "      <td>NaN</td>\n",
       "      <td>45 min</td>\n",
       "      <td>Drama, Fantasy</td>\n",
       "    </tr>\n",
       "    <tr>\n",
       "      <th>...</th>\n",
       "      <td>...</td>\n",
       "      <td>...</td>\n",
       "      <td>...</td>\n",
       "      <td>...</td>\n",
       "      <td>...</td>\n",
       "      <td>...</td>\n",
       "      <td>...</td>\n",
       "      <td>...</td>\n",
       "      <td>...</td>\n",
       "      <td>...</td>\n",
       "    </tr>\n",
       "    <tr>\n",
       "      <th>9663</th>\n",
       "      <td>Movie</td>\n",
       "      <td>Pride Of The Bowery</td>\n",
       "      <td>Joseph H. Lewis</td>\n",
       "      <td>Leo Gorcey, Bobby Jordan</td>\n",
       "      <td>NaN</td>\n",
       "      <td>NaN</td>\n",
       "      <td>1940</td>\n",
       "      <td>7+</td>\n",
       "      <td>60 min</td>\n",
       "      <td>Comedy</td>\n",
       "    </tr>\n",
       "    <tr>\n",
       "      <th>9664</th>\n",
       "      <td>TV Show</td>\n",
       "      <td>Planet Patrol</td>\n",
       "      <td>NaN</td>\n",
       "      <td>DICK VOSBURGH, RONNIE STEVENS, LIBBY MORRIS, M...</td>\n",
       "      <td>NaN</td>\n",
       "      <td>NaN</td>\n",
       "      <td>2018</td>\n",
       "      <td>13+</td>\n",
       "      <td>4 Seasons</td>\n",
       "      <td>TV Shows</td>\n",
       "    </tr>\n",
       "    <tr>\n",
       "      <th>9665</th>\n",
       "      <td>Movie</td>\n",
       "      <td>Outpost</td>\n",
       "      <td>Steve Barker</td>\n",
       "      <td>Ray Stevenson, Julian Wadham, Richard Brake, M...</td>\n",
       "      <td>NaN</td>\n",
       "      <td>NaN</td>\n",
       "      <td>2008</td>\n",
       "      <td>R</td>\n",
       "      <td>90 min</td>\n",
       "      <td>Action</td>\n",
       "    </tr>\n",
       "    <tr>\n",
       "      <th>9666</th>\n",
       "      <td>TV Show</td>\n",
       "      <td>Maradona: Blessed Dream</td>\n",
       "      <td>NaN</td>\n",
       "      <td>Esteban Recagno, Ezequiel Stremiz, Luciano Vit...</td>\n",
       "      <td>NaN</td>\n",
       "      <td>NaN</td>\n",
       "      <td>2021</td>\n",
       "      <td>TV-MA</td>\n",
       "      <td>1 Season</td>\n",
       "      <td>Drama, Sports</td>\n",
       "    </tr>\n",
       "    <tr>\n",
       "      <th>9667</th>\n",
       "      <td>Movie</td>\n",
       "      <td>Harry Brown</td>\n",
       "      <td>Daniel Barber</td>\n",
       "      <td>Michael Caine, Emily Mortimer, Joseph Gilgun, ...</td>\n",
       "      <td>NaN</td>\n",
       "      <td>NaN</td>\n",
       "      <td>2010</td>\n",
       "      <td>R</td>\n",
       "      <td>103 min</td>\n",
       "      <td>Action, Drama, Suspense</td>\n",
       "    </tr>\n",
       "  </tbody>\n",
       "</table>\n",
       "<p>9668 rows × 10 columns</p>\n",
       "</div>"
      ],
      "text/plain": [
       "         type                    title         director  \\\n",
       "0       Movie      The Grand Seduction     Don McKellar   \n",
       "1       Movie     Take Care Good Night     Girish Joshi   \n",
       "2       Movie     Secrets of Deception      Josh Webber   \n",
       "3       Movie       Pink: Staying True   Sonia Anderson   \n",
       "4       Movie            Monster Maker     Giles Foster   \n",
       "...       ...                      ...              ...   \n",
       "9663    Movie      Pride Of The Bowery  Joseph H. Lewis   \n",
       "9664  TV Show            Planet Patrol              NaN   \n",
       "9665    Movie                  Outpost     Steve Barker   \n",
       "9666  TV Show  Maradona: Blessed Dream              NaN   \n",
       "9667    Movie              Harry Brown    Daniel Barber   \n",
       "\n",
       "                                                   cast         country  \\\n",
       "0        Brendan Gleeson, Taylor Kitsch, Gordon Pinsent          Canada   \n",
       "1      Mahesh Manjrekar, Abhay Mahajan, Sachin Khedekar           India   \n",
       "2     Tom Sizemore, Lorenzo Lamas, Robert LaSardo, R...   United States   \n",
       "3     Interviews with: Pink, Adele, Beyoncé, Britney...   United States   \n",
       "4     Harry Dean Stanton, Kieran O'Brien, George Cos...  United Kingdom   \n",
       "...                                                 ...             ...   \n",
       "9663                           Leo Gorcey, Bobby Jordan             NaN   \n",
       "9664  DICK VOSBURGH, RONNIE STEVENS, LIBBY MORRIS, M...             NaN   \n",
       "9665  Ray Stevenson, Julian Wadham, Richard Brake, M...             NaN   \n",
       "9666  Esteban Recagno, Ezequiel Stremiz, Luciano Vit...             NaN   \n",
       "9667  Michael Caine, Emily Mortimer, Joseph Gilgun, ...             NaN   \n",
       "\n",
       "          date_added  release_year rating   duration               categories  \n",
       "0     March 30, 2021          2014    NaN    113 min            Comedy, Drama  \n",
       "1     March 30, 2021          2018    13+    110 min     Drama, International  \n",
       "2     March 30, 2021          2017    NaN     74 min  Action, Drama, Suspense  \n",
       "3     March 30, 2021          2014    NaN     69 min              Documentary  \n",
       "4     March 30, 2021          1989    NaN     45 min           Drama, Fantasy  \n",
       "...              ...           ...    ...        ...                      ...  \n",
       "9663             NaN          1940     7+     60 min                   Comedy  \n",
       "9664             NaN          2018    13+  4 Seasons                 TV Shows  \n",
       "9665             NaN          2008      R     90 min                   Action  \n",
       "9666             NaN          2021  TV-MA   1 Season            Drama, Sports  \n",
       "9667             NaN          2010      R    103 min  Action, Drama, Suspense  \n",
       "\n",
       "[9668 rows x 10 columns]"
      ]
     },
     "execution_count": 4,
     "metadata": {},
     "output_type": "execute_result"
    }
   ],
   "source": [
    "\n",
    "df.drop(['show_id'], axis = 1, inplace = True)\n",
    "df.drop(['description'], axis = 1, inplace = True)\n",
    "df"
   ]
  },
  {
   "cell_type": "markdown",
   "id": "061ead1e",
   "metadata": {
    "papermill": {
     "duration": 0.012744,
     "end_time": "2023-07-02T13:46:43.226999",
     "exception": false,
     "start_time": "2023-07-02T13:46:43.214255",
     "status": "completed"
    },
    "tags": []
   },
   "source": [
    "## Sneak Peek Data"
   ]
  },
  {
   "cell_type": "code",
   "execution_count": 5,
   "id": "4bab2e46",
   "metadata": {
    "execution": {
     "iopub.execute_input": "2023-07-02T13:46:43.256134Z",
     "iopub.status.busy": "2023-07-02T13:46:43.255233Z",
     "iopub.status.idle": "2023-07-02T13:46:43.262691Z",
     "shell.execute_reply": "2023-07-02T13:46:43.261456Z"
    },
    "papermill": {
     "duration": 0.024911,
     "end_time": "2023-07-02T13:46:43.265116",
     "exception": false,
     "start_time": "2023-07-02T13:46:43.240205",
     "status": "completed"
    },
    "tags": []
   },
   "outputs": [
    {
     "data": {
      "text/plain": [
       "(9668, 10)"
      ]
     },
     "execution_count": 5,
     "metadata": {},
     "output_type": "execute_result"
    }
   ],
   "source": [
    "df.shape"
   ]
  },
  {
   "cell_type": "code",
   "execution_count": 6,
   "id": "cefd4545",
   "metadata": {
    "execution": {
     "iopub.execute_input": "2023-07-02T13:46:43.293804Z",
     "iopub.status.busy": "2023-07-02T13:46:43.293354Z",
     "iopub.status.idle": "2023-07-02T13:46:43.343165Z",
     "shell.execute_reply": "2023-07-02T13:46:43.342054Z"
    },
    "papermill": {
     "duration": 0.067058,
     "end_time": "2023-07-02T13:46:43.345660",
     "exception": false,
     "start_time": "2023-07-02T13:46:43.278602",
     "status": "completed"
    },
    "tags": []
   },
   "outputs": [
    {
     "name": "stdout",
     "output_type": "stream",
     "text": [
      "<class 'pandas.core.frame.DataFrame'>\n",
      "RangeIndex: 9668 entries, 0 to 9667\n",
      "Data columns (total 10 columns):\n",
      " #   Column        Non-Null Count  Dtype \n",
      "---  ------        --------------  ----- \n",
      " 0   type          9668 non-null   object\n",
      " 1   title         9668 non-null   object\n",
      " 2   director      7586 non-null   object\n",
      " 3   cast          8435 non-null   object\n",
      " 4   country       672 non-null    object\n",
      " 5   date_added    155 non-null    object\n",
      " 6   release_year  9668 non-null   int64 \n",
      " 7   rating        9331 non-null   object\n",
      " 8   duration      9668 non-null   object\n",
      " 9   categories    9668 non-null   object\n",
      "dtypes: int64(1), object(9)\n",
      "memory usage: 755.4+ KB\n"
     ]
    }
   ],
   "source": [
    "df.info()"
   ]
  },
  {
   "cell_type": "code",
   "execution_count": 7,
   "id": "81dde0cf",
   "metadata": {
    "execution": {
     "iopub.execute_input": "2023-07-02T13:46:43.374267Z",
     "iopub.status.busy": "2023-07-02T13:46:43.373589Z",
     "iopub.status.idle": "2023-07-02T13:46:43.431339Z",
     "shell.execute_reply": "2023-07-02T13:46:43.430246Z"
    },
    "papermill": {
     "duration": 0.074709,
     "end_time": "2023-07-02T13:46:43.433726",
     "exception": false,
     "start_time": "2023-07-02T13:46:43.359017",
     "status": "completed"
    },
    "tags": []
   },
   "outputs": [
    {
     "data": {
      "text/html": [
       "<div>\n",
       "<style scoped>\n",
       "    .dataframe tbody tr th:only-of-type {\n",
       "        vertical-align: middle;\n",
       "    }\n",
       "\n",
       "    .dataframe tbody tr th {\n",
       "        vertical-align: top;\n",
       "    }\n",
       "\n",
       "    .dataframe thead th {\n",
       "        text-align: right;\n",
       "    }\n",
       "</style>\n",
       "<table border=\"1\" class=\"dataframe\">\n",
       "  <thead>\n",
       "    <tr style=\"text-align: right;\">\n",
       "      <th></th>\n",
       "      <th>type</th>\n",
       "      <th>title</th>\n",
       "      <th>director</th>\n",
       "      <th>cast</th>\n",
       "      <th>country</th>\n",
       "      <th>date_added</th>\n",
       "      <th>rating</th>\n",
       "      <th>duration</th>\n",
       "      <th>categories</th>\n",
       "    </tr>\n",
       "  </thead>\n",
       "  <tbody>\n",
       "    <tr>\n",
       "      <th>count</th>\n",
       "      <td>9668</td>\n",
       "      <td>9668</td>\n",
       "      <td>7586</td>\n",
       "      <td>8435</td>\n",
       "      <td>672</td>\n",
       "      <td>155</td>\n",
       "      <td>9331</td>\n",
       "      <td>9668</td>\n",
       "      <td>9668</td>\n",
       "    </tr>\n",
       "    <tr>\n",
       "      <th>unique</th>\n",
       "      <td>2</td>\n",
       "      <td>9668</td>\n",
       "      <td>5774</td>\n",
       "      <td>7927</td>\n",
       "      <td>86</td>\n",
       "      <td>84</td>\n",
       "      <td>24</td>\n",
       "      <td>219</td>\n",
       "      <td>518</td>\n",
       "    </tr>\n",
       "    <tr>\n",
       "      <th>top</th>\n",
       "      <td>Movie</td>\n",
       "      <td>The Grand Seduction</td>\n",
       "      <td>Mark Knight</td>\n",
       "      <td>Maggie Binkley</td>\n",
       "      <td>United States</td>\n",
       "      <td>March 30, 2021</td>\n",
       "      <td>13+</td>\n",
       "      <td>1 Season</td>\n",
       "      <td>Drama</td>\n",
       "    </tr>\n",
       "    <tr>\n",
       "      <th>freq</th>\n",
       "      <td>7814</td>\n",
       "      <td>1</td>\n",
       "      <td>113</td>\n",
       "      <td>56</td>\n",
       "      <td>253</td>\n",
       "      <td>14</td>\n",
       "      <td>2117</td>\n",
       "      <td>1342</td>\n",
       "      <td>986</td>\n",
       "    </tr>\n",
       "  </tbody>\n",
       "</table>\n",
       "</div>"
      ],
      "text/plain": [
       "         type                title     director            cast  \\\n",
       "count    9668                 9668         7586            8435   \n",
       "unique      2                 9668         5774            7927   \n",
       "top     Movie  The Grand Seduction  Mark Knight  Maggie Binkley   \n",
       "freq     7814                    1          113              56   \n",
       "\n",
       "              country      date_added rating  duration categories  \n",
       "count             672             155   9331      9668       9668  \n",
       "unique             86              84     24       219        518  \n",
       "top     United States  March 30, 2021    13+  1 Season      Drama  \n",
       "freq              253              14   2117      1342        986  "
      ]
     },
     "execution_count": 7,
     "metadata": {},
     "output_type": "execute_result"
    }
   ],
   "source": [
    "df.describe(include = object)"
   ]
  },
  {
   "cell_type": "markdown",
   "id": "94f2cbe9",
   "metadata": {
    "papermill": {
     "duration": 0.012899,
     "end_time": "2023-07-02T13:46:43.459936",
     "exception": false,
     "start_time": "2023-07-02T13:46:43.447037",
     "status": "completed"
    },
    "tags": []
   },
   "source": [
    "## Handling Duplicate Values"
   ]
  },
  {
   "cell_type": "code",
   "execution_count": 8,
   "id": "c9b69748",
   "metadata": {
    "execution": {
     "iopub.execute_input": "2023-07-02T13:46:43.489680Z",
     "iopub.status.busy": "2023-07-02T13:46:43.489068Z",
     "iopub.status.idle": "2023-07-02T13:46:43.514482Z",
     "shell.execute_reply": "2023-07-02T13:46:43.513368Z"
    },
    "papermill": {
     "duration": 0.043302,
     "end_time": "2023-07-02T13:46:43.516758",
     "exception": false,
     "start_time": "2023-07-02T13:46:43.473456",
     "status": "completed"
    },
    "tags": []
   },
   "outputs": [
    {
     "data": {
      "text/plain": [
       "0"
      ]
     },
     "execution_count": 8,
     "metadata": {},
     "output_type": "execute_result"
    }
   ],
   "source": [
    "df.duplicated().sum()"
   ]
  },
  {
   "cell_type": "markdown",
   "id": "2f5ae253",
   "metadata": {
    "papermill": {
     "duration": 0.013191,
     "end_time": "2023-07-02T13:46:43.543574",
     "exception": false,
     "start_time": "2023-07-02T13:46:43.530383",
     "status": "completed"
    },
    "tags": []
   },
   "source": [
    "## Handling Missing Values"
   ]
  },
  {
   "cell_type": "code",
   "execution_count": 9,
   "id": "1799af4b",
   "metadata": {
    "execution": {
     "iopub.execute_input": "2023-07-02T13:46:43.572603Z",
     "iopub.status.busy": "2023-07-02T13:46:43.571960Z",
     "iopub.status.idle": "2023-07-02T13:46:43.607851Z",
     "shell.execute_reply": "2023-07-02T13:46:43.606720Z"
    },
    "papermill": {
     "duration": 0.053177,
     "end_time": "2023-07-02T13:46:43.610196",
     "exception": false,
     "start_time": "2023-07-02T13:46:43.557019",
     "status": "completed"
    },
    "tags": []
   },
   "outputs": [
    {
     "data": {
      "text/plain": [
       "type               0\n",
       "title              0\n",
       "director        2082\n",
       "cast            1233\n",
       "country         8996\n",
       "date_added      9513\n",
       "release_year       0\n",
       "rating           337\n",
       "duration           0\n",
       "categories         0\n",
       "dtype: int64"
      ]
     },
     "execution_count": 9,
     "metadata": {},
     "output_type": "execute_result"
    }
   ],
   "source": [
    "df.isnull().sum()"
   ]
  },
  {
   "cell_type": "code",
   "execution_count": 10,
   "id": "63076984",
   "metadata": {
    "execution": {
     "iopub.execute_input": "2023-07-02T13:46:43.640033Z",
     "iopub.status.busy": "2023-07-02T13:46:43.639597Z",
     "iopub.status.idle": "2023-07-02T13:46:43.679399Z",
     "shell.execute_reply": "2023-07-02T13:46:43.678558Z"
    },
    "papermill": {
     "duration": 0.057667,
     "end_time": "2023-07-02T13:46:43.681502",
     "exception": false,
     "start_time": "2023-07-02T13:46:43.623835",
     "status": "completed"
    },
    "tags": []
   },
   "outputs": [
    {
     "data": {
      "text/html": [
       "<div>\n",
       "<style scoped>\n",
       "    .dataframe tbody tr th:only-of-type {\n",
       "        vertical-align: middle;\n",
       "    }\n",
       "\n",
       "    .dataframe tbody tr th {\n",
       "        vertical-align: top;\n",
       "    }\n",
       "\n",
       "    .dataframe thead th {\n",
       "        text-align: right;\n",
       "    }\n",
       "</style>\n",
       "<table border=\"1\" class=\"dataframe\">\n",
       "  <thead>\n",
       "    <tr style=\"text-align: right;\">\n",
       "      <th></th>\n",
       "      <th>type</th>\n",
       "      <th>title</th>\n",
       "      <th>director</th>\n",
       "      <th>cast</th>\n",
       "      <th>country</th>\n",
       "      <th>date_added</th>\n",
       "      <th>release_year</th>\n",
       "      <th>rating</th>\n",
       "      <th>duration</th>\n",
       "      <th>categories</th>\n",
       "    </tr>\n",
       "  </thead>\n",
       "  <tbody>\n",
       "    <tr>\n",
       "      <th>0</th>\n",
       "      <td>Movie</td>\n",
       "      <td>The Grand Seduction</td>\n",
       "      <td>Don McKellar</td>\n",
       "      <td>Brendan Gleeson, Taylor Kitsch, Gordon Pinsent</td>\n",
       "      <td>Canada</td>\n",
       "      <td>March 30, 2021</td>\n",
       "      <td>2014</td>\n",
       "      <td>13+</td>\n",
       "      <td>113 min</td>\n",
       "      <td>Comedy, Drama</td>\n",
       "    </tr>\n",
       "    <tr>\n",
       "      <th>1</th>\n",
       "      <td>Movie</td>\n",
       "      <td>Take Care Good Night</td>\n",
       "      <td>Girish Joshi</td>\n",
       "      <td>Mahesh Manjrekar, Abhay Mahajan, Sachin Khedekar</td>\n",
       "      <td>India</td>\n",
       "      <td>March 30, 2021</td>\n",
       "      <td>2018</td>\n",
       "      <td>13+</td>\n",
       "      <td>110 min</td>\n",
       "      <td>Drama, International</td>\n",
       "    </tr>\n",
       "    <tr>\n",
       "      <th>2</th>\n",
       "      <td>Movie</td>\n",
       "      <td>Secrets of Deception</td>\n",
       "      <td>Josh Webber</td>\n",
       "      <td>Tom Sizemore, Lorenzo Lamas, Robert LaSardo, R...</td>\n",
       "      <td>United States</td>\n",
       "      <td>March 30, 2021</td>\n",
       "      <td>2017</td>\n",
       "      <td>13+</td>\n",
       "      <td>74 min</td>\n",
       "      <td>Action, Drama, Suspense</td>\n",
       "    </tr>\n",
       "    <tr>\n",
       "      <th>3</th>\n",
       "      <td>Movie</td>\n",
       "      <td>Pink: Staying True</td>\n",
       "      <td>Sonia Anderson</td>\n",
       "      <td>Interviews with: Pink, Adele, Beyoncé, Britney...</td>\n",
       "      <td>United States</td>\n",
       "      <td>March 30, 2021</td>\n",
       "      <td>2014</td>\n",
       "      <td>13+</td>\n",
       "      <td>69 min</td>\n",
       "      <td>Documentary</td>\n",
       "    </tr>\n",
       "    <tr>\n",
       "      <th>4</th>\n",
       "      <td>Movie</td>\n",
       "      <td>Monster Maker</td>\n",
       "      <td>Giles Foster</td>\n",
       "      <td>Harry Dean Stanton, Kieran O'Brien, George Cos...</td>\n",
       "      <td>United Kingdom</td>\n",
       "      <td>March 30, 2021</td>\n",
       "      <td>1989</td>\n",
       "      <td>13+</td>\n",
       "      <td>45 min</td>\n",
       "      <td>Drama, Fantasy</td>\n",
       "    </tr>\n",
       "    <tr>\n",
       "      <th>...</th>\n",
       "      <td>...</td>\n",
       "      <td>...</td>\n",
       "      <td>...</td>\n",
       "      <td>...</td>\n",
       "      <td>...</td>\n",
       "      <td>...</td>\n",
       "      <td>...</td>\n",
       "      <td>...</td>\n",
       "      <td>...</td>\n",
       "      <td>...</td>\n",
       "    </tr>\n",
       "    <tr>\n",
       "      <th>9663</th>\n",
       "      <td>Movie</td>\n",
       "      <td>Pride Of The Bowery</td>\n",
       "      <td>Joseph H. Lewis</td>\n",
       "      <td>Leo Gorcey, Bobby Jordan</td>\n",
       "      <td>Unavailable</td>\n",
       "      <td>October 10, 2021</td>\n",
       "      <td>1940</td>\n",
       "      <td>7+</td>\n",
       "      <td>60 min</td>\n",
       "      <td>Comedy</td>\n",
       "    </tr>\n",
       "    <tr>\n",
       "      <th>9664</th>\n",
       "      <td>TV Show</td>\n",
       "      <td>Planet Patrol</td>\n",
       "      <td>Unavailable</td>\n",
       "      <td>DICK VOSBURGH, RONNIE STEVENS, LIBBY MORRIS, M...</td>\n",
       "      <td>Unavailable</td>\n",
       "      <td>October 10, 2021</td>\n",
       "      <td>2018</td>\n",
       "      <td>13+</td>\n",
       "      <td>4 Seasons</td>\n",
       "      <td>TV Shows</td>\n",
       "    </tr>\n",
       "    <tr>\n",
       "      <th>9665</th>\n",
       "      <td>Movie</td>\n",
       "      <td>Outpost</td>\n",
       "      <td>Steve Barker</td>\n",
       "      <td>Ray Stevenson, Julian Wadham, Richard Brake, M...</td>\n",
       "      <td>Unavailable</td>\n",
       "      <td>October 10, 2021</td>\n",
       "      <td>2008</td>\n",
       "      <td>R</td>\n",
       "      <td>90 min</td>\n",
       "      <td>Action</td>\n",
       "    </tr>\n",
       "    <tr>\n",
       "      <th>9666</th>\n",
       "      <td>TV Show</td>\n",
       "      <td>Maradona: Blessed Dream</td>\n",
       "      <td>Unavailable</td>\n",
       "      <td>Esteban Recagno, Ezequiel Stremiz, Luciano Vit...</td>\n",
       "      <td>Unavailable</td>\n",
       "      <td>October 10, 2021</td>\n",
       "      <td>2021</td>\n",
       "      <td>TV-MA</td>\n",
       "      <td>1 Season</td>\n",
       "      <td>Drama, Sports</td>\n",
       "    </tr>\n",
       "    <tr>\n",
       "      <th>9667</th>\n",
       "      <td>Movie</td>\n",
       "      <td>Harry Brown</td>\n",
       "      <td>Daniel Barber</td>\n",
       "      <td>Michael Caine, Emily Mortimer, Joseph Gilgun, ...</td>\n",
       "      <td>Unavailable</td>\n",
       "      <td>October 10, 2021</td>\n",
       "      <td>2010</td>\n",
       "      <td>R</td>\n",
       "      <td>103 min</td>\n",
       "      <td>Action, Drama, Suspense</td>\n",
       "    </tr>\n",
       "  </tbody>\n",
       "</table>\n",
       "<p>9668 rows × 10 columns</p>\n",
       "</div>"
      ],
      "text/plain": [
       "         type                    title         director  \\\n",
       "0       Movie      The Grand Seduction     Don McKellar   \n",
       "1       Movie     Take Care Good Night     Girish Joshi   \n",
       "2       Movie     Secrets of Deception      Josh Webber   \n",
       "3       Movie       Pink: Staying True   Sonia Anderson   \n",
       "4       Movie            Monster Maker     Giles Foster   \n",
       "...       ...                      ...              ...   \n",
       "9663    Movie      Pride Of The Bowery  Joseph H. Lewis   \n",
       "9664  TV Show            Planet Patrol      Unavailable   \n",
       "9665    Movie                  Outpost     Steve Barker   \n",
       "9666  TV Show  Maradona: Blessed Dream      Unavailable   \n",
       "9667    Movie              Harry Brown    Daniel Barber   \n",
       "\n",
       "                                                   cast         country  \\\n",
       "0        Brendan Gleeson, Taylor Kitsch, Gordon Pinsent          Canada   \n",
       "1      Mahesh Manjrekar, Abhay Mahajan, Sachin Khedekar           India   \n",
       "2     Tom Sizemore, Lorenzo Lamas, Robert LaSardo, R...   United States   \n",
       "3     Interviews with: Pink, Adele, Beyoncé, Britney...   United States   \n",
       "4     Harry Dean Stanton, Kieran O'Brien, George Cos...  United Kingdom   \n",
       "...                                                 ...             ...   \n",
       "9663                           Leo Gorcey, Bobby Jordan     Unavailable   \n",
       "9664  DICK VOSBURGH, RONNIE STEVENS, LIBBY MORRIS, M...     Unavailable   \n",
       "9665  Ray Stevenson, Julian Wadham, Richard Brake, M...     Unavailable   \n",
       "9666  Esteban Recagno, Ezequiel Stremiz, Luciano Vit...     Unavailable   \n",
       "9667  Michael Caine, Emily Mortimer, Joseph Gilgun, ...     Unavailable   \n",
       "\n",
       "            date_added  release_year rating   duration  \\\n",
       "0       March 30, 2021          2014    13+    113 min   \n",
       "1       March 30, 2021          2018    13+    110 min   \n",
       "2       March 30, 2021          2017    13+     74 min   \n",
       "3       March 30, 2021          2014    13+     69 min   \n",
       "4       March 30, 2021          1989    13+     45 min   \n",
       "...                ...           ...    ...        ...   \n",
       "9663  October 10, 2021          1940     7+     60 min   \n",
       "9664  October 10, 2021          2018    13+  4 Seasons   \n",
       "9665  October 10, 2021          2008      R     90 min   \n",
       "9666  October 10, 2021          2021  TV-MA   1 Season   \n",
       "9667  October 10, 2021          2010      R    103 min   \n",
       "\n",
       "                   categories  \n",
       "0               Comedy, Drama  \n",
       "1        Drama, International  \n",
       "2     Action, Drama, Suspense  \n",
       "3                 Documentary  \n",
       "4              Drama, Fantasy  \n",
       "...                       ...  \n",
       "9663                   Comedy  \n",
       "9664                 TV Shows  \n",
       "9665                   Action  \n",
       "9666            Drama, Sports  \n",
       "9667  Action, Drama, Suspense  \n",
       "\n",
       "[9668 rows x 10 columns]"
      ]
     },
     "execution_count": 10,
     "metadata": {},
     "output_type": "execute_result"
    }
   ],
   "source": [
    "df['director'].fillna('Unavailable', inplace=True)\n",
    "df['cast'].fillna('Unavailable', inplace=True)\n",
    "df['country'].fillna('Unavailable', inplace=True)\n",
    "df['rating'] = df['rating'].fillna(df['rating'].mode()[0])\n",
    "df['date_added']= df['date_added'].ffill()\n",
    "df"
   ]
  },
  {
   "cell_type": "code",
   "execution_count": 11,
   "id": "bc1bd05b",
   "metadata": {
    "execution": {
     "iopub.execute_input": "2023-07-02T13:46:43.712736Z",
     "iopub.status.busy": "2023-07-02T13:46:43.711764Z",
     "iopub.status.idle": "2023-07-02T13:46:43.738945Z",
     "shell.execute_reply": "2023-07-02T13:46:43.737782Z"
    },
    "papermill": {
     "duration": 0.045698,
     "end_time": "2023-07-02T13:46:43.741382",
     "exception": false,
     "start_time": "2023-07-02T13:46:43.695684",
     "status": "completed"
    },
    "tags": []
   },
   "outputs": [
    {
     "data": {
      "text/html": [
       "<div>\n",
       "<style scoped>\n",
       "    .dataframe tbody tr th:only-of-type {\n",
       "        vertical-align: middle;\n",
       "    }\n",
       "\n",
       "    .dataframe tbody tr th {\n",
       "        vertical-align: top;\n",
       "    }\n",
       "\n",
       "    .dataframe thead th {\n",
       "        text-align: right;\n",
       "    }\n",
       "</style>\n",
       "<table border=\"1\" class=\"dataframe\">\n",
       "  <thead>\n",
       "    <tr style=\"text-align: right;\">\n",
       "      <th></th>\n",
       "      <th>type</th>\n",
       "      <th>title</th>\n",
       "      <th>director</th>\n",
       "      <th>cast</th>\n",
       "      <th>country</th>\n",
       "      <th>date_added</th>\n",
       "      <th>release_year</th>\n",
       "      <th>rating</th>\n",
       "      <th>duration</th>\n",
       "      <th>categories</th>\n",
       "    </tr>\n",
       "  </thead>\n",
       "  <tbody>\n",
       "    <tr>\n",
       "      <th>0</th>\n",
       "      <td>Movie</td>\n",
       "      <td>The Grand Seduction</td>\n",
       "      <td>Don McKellar</td>\n",
       "      <td>Brendan Gleeson, Taylor Kitsch, Gordon Pinsent</td>\n",
       "      <td>Canada</td>\n",
       "      <td>2021-03-30</td>\n",
       "      <td>2014</td>\n",
       "      <td>13+</td>\n",
       "      <td>113 min</td>\n",
       "      <td>Comedy, Drama</td>\n",
       "    </tr>\n",
       "    <tr>\n",
       "      <th>1</th>\n",
       "      <td>Movie</td>\n",
       "      <td>Take Care Good Night</td>\n",
       "      <td>Girish Joshi</td>\n",
       "      <td>Mahesh Manjrekar, Abhay Mahajan, Sachin Khedekar</td>\n",
       "      <td>India</td>\n",
       "      <td>2021-03-30</td>\n",
       "      <td>2018</td>\n",
       "      <td>13+</td>\n",
       "      <td>110 min</td>\n",
       "      <td>Drama, International</td>\n",
       "    </tr>\n",
       "    <tr>\n",
       "      <th>2</th>\n",
       "      <td>Movie</td>\n",
       "      <td>Secrets of Deception</td>\n",
       "      <td>Josh Webber</td>\n",
       "      <td>Tom Sizemore, Lorenzo Lamas, Robert LaSardo, R...</td>\n",
       "      <td>United States</td>\n",
       "      <td>2021-03-30</td>\n",
       "      <td>2017</td>\n",
       "      <td>13+</td>\n",
       "      <td>74 min</td>\n",
       "      <td>Action, Drama, Suspense</td>\n",
       "    </tr>\n",
       "    <tr>\n",
       "      <th>3</th>\n",
       "      <td>Movie</td>\n",
       "      <td>Pink: Staying True</td>\n",
       "      <td>Sonia Anderson</td>\n",
       "      <td>Interviews with: Pink, Adele, Beyoncé, Britney...</td>\n",
       "      <td>United States</td>\n",
       "      <td>2021-03-30</td>\n",
       "      <td>2014</td>\n",
       "      <td>13+</td>\n",
       "      <td>69 min</td>\n",
       "      <td>Documentary</td>\n",
       "    </tr>\n",
       "    <tr>\n",
       "      <th>4</th>\n",
       "      <td>Movie</td>\n",
       "      <td>Monster Maker</td>\n",
       "      <td>Giles Foster</td>\n",
       "      <td>Harry Dean Stanton, Kieran O'Brien, George Cos...</td>\n",
       "      <td>United Kingdom</td>\n",
       "      <td>2021-03-30</td>\n",
       "      <td>1989</td>\n",
       "      <td>13+</td>\n",
       "      <td>45 min</td>\n",
       "      <td>Drama, Fantasy</td>\n",
       "    </tr>\n",
       "    <tr>\n",
       "      <th>...</th>\n",
       "      <td>...</td>\n",
       "      <td>...</td>\n",
       "      <td>...</td>\n",
       "      <td>...</td>\n",
       "      <td>...</td>\n",
       "      <td>...</td>\n",
       "      <td>...</td>\n",
       "      <td>...</td>\n",
       "      <td>...</td>\n",
       "      <td>...</td>\n",
       "    </tr>\n",
       "    <tr>\n",
       "      <th>9663</th>\n",
       "      <td>Movie</td>\n",
       "      <td>Pride Of The Bowery</td>\n",
       "      <td>Joseph H. Lewis</td>\n",
       "      <td>Leo Gorcey, Bobby Jordan</td>\n",
       "      <td>Unavailable</td>\n",
       "      <td>2021-10-10</td>\n",
       "      <td>1940</td>\n",
       "      <td>7+</td>\n",
       "      <td>60 min</td>\n",
       "      <td>Comedy</td>\n",
       "    </tr>\n",
       "    <tr>\n",
       "      <th>9664</th>\n",
       "      <td>TV Show</td>\n",
       "      <td>Planet Patrol</td>\n",
       "      <td>Unavailable</td>\n",
       "      <td>DICK VOSBURGH, RONNIE STEVENS, LIBBY MORRIS, M...</td>\n",
       "      <td>Unavailable</td>\n",
       "      <td>2021-10-10</td>\n",
       "      <td>2018</td>\n",
       "      <td>13+</td>\n",
       "      <td>4 Seasons</td>\n",
       "      <td>TV Shows</td>\n",
       "    </tr>\n",
       "    <tr>\n",
       "      <th>9665</th>\n",
       "      <td>Movie</td>\n",
       "      <td>Outpost</td>\n",
       "      <td>Steve Barker</td>\n",
       "      <td>Ray Stevenson, Julian Wadham, Richard Brake, M...</td>\n",
       "      <td>Unavailable</td>\n",
       "      <td>2021-10-10</td>\n",
       "      <td>2008</td>\n",
       "      <td>R</td>\n",
       "      <td>90 min</td>\n",
       "      <td>Action</td>\n",
       "    </tr>\n",
       "    <tr>\n",
       "      <th>9666</th>\n",
       "      <td>TV Show</td>\n",
       "      <td>Maradona: Blessed Dream</td>\n",
       "      <td>Unavailable</td>\n",
       "      <td>Esteban Recagno, Ezequiel Stremiz, Luciano Vit...</td>\n",
       "      <td>Unavailable</td>\n",
       "      <td>2021-10-10</td>\n",
       "      <td>2021</td>\n",
       "      <td>TV-MA</td>\n",
       "      <td>1 Season</td>\n",
       "      <td>Drama, Sports</td>\n",
       "    </tr>\n",
       "    <tr>\n",
       "      <th>9667</th>\n",
       "      <td>Movie</td>\n",
       "      <td>Harry Brown</td>\n",
       "      <td>Daniel Barber</td>\n",
       "      <td>Michael Caine, Emily Mortimer, Joseph Gilgun, ...</td>\n",
       "      <td>Unavailable</td>\n",
       "      <td>2021-10-10</td>\n",
       "      <td>2010</td>\n",
       "      <td>R</td>\n",
       "      <td>103 min</td>\n",
       "      <td>Action, Drama, Suspense</td>\n",
       "    </tr>\n",
       "  </tbody>\n",
       "</table>\n",
       "<p>9668 rows × 10 columns</p>\n",
       "</div>"
      ],
      "text/plain": [
       "         type                    title         director  \\\n",
       "0       Movie      The Grand Seduction     Don McKellar   \n",
       "1       Movie     Take Care Good Night     Girish Joshi   \n",
       "2       Movie     Secrets of Deception      Josh Webber   \n",
       "3       Movie       Pink: Staying True   Sonia Anderson   \n",
       "4       Movie            Monster Maker     Giles Foster   \n",
       "...       ...                      ...              ...   \n",
       "9663    Movie      Pride Of The Bowery  Joseph H. Lewis   \n",
       "9664  TV Show            Planet Patrol      Unavailable   \n",
       "9665    Movie                  Outpost     Steve Barker   \n",
       "9666  TV Show  Maradona: Blessed Dream      Unavailable   \n",
       "9667    Movie              Harry Brown    Daniel Barber   \n",
       "\n",
       "                                                   cast         country  \\\n",
       "0        Brendan Gleeson, Taylor Kitsch, Gordon Pinsent          Canada   \n",
       "1      Mahesh Manjrekar, Abhay Mahajan, Sachin Khedekar           India   \n",
       "2     Tom Sizemore, Lorenzo Lamas, Robert LaSardo, R...   United States   \n",
       "3     Interviews with: Pink, Adele, Beyoncé, Britney...   United States   \n",
       "4     Harry Dean Stanton, Kieran O'Brien, George Cos...  United Kingdom   \n",
       "...                                                 ...             ...   \n",
       "9663                           Leo Gorcey, Bobby Jordan     Unavailable   \n",
       "9664  DICK VOSBURGH, RONNIE STEVENS, LIBBY MORRIS, M...     Unavailable   \n",
       "9665  Ray Stevenson, Julian Wadham, Richard Brake, M...     Unavailable   \n",
       "9666  Esteban Recagno, Ezequiel Stremiz, Luciano Vit...     Unavailable   \n",
       "9667  Michael Caine, Emily Mortimer, Joseph Gilgun, ...     Unavailable   \n",
       "\n",
       "     date_added  release_year rating   duration               categories  \n",
       "0    2021-03-30          2014    13+    113 min            Comedy, Drama  \n",
       "1    2021-03-30          2018    13+    110 min     Drama, International  \n",
       "2    2021-03-30          2017    13+     74 min  Action, Drama, Suspense  \n",
       "3    2021-03-30          2014    13+     69 min              Documentary  \n",
       "4    2021-03-30          1989    13+     45 min           Drama, Fantasy  \n",
       "...         ...           ...    ...        ...                      ...  \n",
       "9663 2021-10-10          1940     7+     60 min                   Comedy  \n",
       "9664 2021-10-10          2018    13+  4 Seasons                 TV Shows  \n",
       "9665 2021-10-10          2008      R     90 min                   Action  \n",
       "9666 2021-10-10          2021  TV-MA   1 Season            Drama, Sports  \n",
       "9667 2021-10-10          2010      R    103 min  Action, Drama, Suspense  \n",
       "\n",
       "[9668 rows x 10 columns]"
      ]
     },
     "execution_count": 11,
     "metadata": {},
     "output_type": "execute_result"
    }
   ],
   "source": [
    "df['date_added']= pd.to_datetime(df['date_added'], format='%B %d, %Y')\n",
    "df"
   ]
  },
  {
   "cell_type": "code",
   "execution_count": 12,
   "id": "8efb1409",
   "metadata": {
    "execution": {
     "iopub.execute_input": "2023-07-02T13:46:43.773075Z",
     "iopub.status.busy": "2023-07-02T13:46:43.771810Z",
     "iopub.status.idle": "2023-07-02T13:46:43.805913Z",
     "shell.execute_reply": "2023-07-02T13:46:43.804820Z"
    },
    "papermill": {
     "duration": 0.052231,
     "end_time": "2023-07-02T13:46:43.808278",
     "exception": false,
     "start_time": "2023-07-02T13:46:43.756047",
     "status": "completed"
    },
    "tags": []
   },
   "outputs": [
    {
     "data": {
      "text/plain": [
       "type            0\n",
       "title           0\n",
       "director        0\n",
       "cast            0\n",
       "country         0\n",
       "date_added      0\n",
       "release_year    0\n",
       "rating          0\n",
       "duration        0\n",
       "categories      0\n",
       "dtype: int64"
      ]
     },
     "execution_count": 12,
     "metadata": {},
     "output_type": "execute_result"
    }
   ],
   "source": [
    "df.isnull().sum()"
   ]
  },
  {
   "cell_type": "markdown",
   "id": "c1d15628",
   "metadata": {
    "papermill": {
     "duration": 0.014277,
     "end_time": "2023-07-02T13:46:43.837373",
     "exception": false,
     "start_time": "2023-07-02T13:46:43.823096",
     "status": "completed"
    },
    "tags": []
   },
   "source": [
    "### Save Clean Data in CSV format"
   ]
  },
  {
   "cell_type": "code",
   "execution_count": 13,
   "id": "9b3e6028",
   "metadata": {
    "execution": {
     "iopub.execute_input": "2023-07-02T13:46:43.869021Z",
     "iopub.status.busy": "2023-07-02T13:46:43.868386Z",
     "iopub.status.idle": "2023-07-02T13:46:44.034987Z",
     "shell.execute_reply": "2023-07-02T13:46:44.033775Z"
    },
    "papermill": {
     "duration": 0.185363,
     "end_time": "2023-07-02T13:46:44.037509",
     "exception": false,
     "start_time": "2023-07-02T13:46:43.852146",
     "status": "completed"
    },
    "tags": []
   },
   "outputs": [
    {
     "data": {
      "text/html": [
       "<div>\n",
       "<style scoped>\n",
       "    .dataframe tbody tr th:only-of-type {\n",
       "        vertical-align: middle;\n",
       "    }\n",
       "\n",
       "    .dataframe tbody tr th {\n",
       "        vertical-align: top;\n",
       "    }\n",
       "\n",
       "    .dataframe thead th {\n",
       "        text-align: right;\n",
       "    }\n",
       "</style>\n",
       "<table border=\"1\" class=\"dataframe\">\n",
       "  <thead>\n",
       "    <tr style=\"text-align: right;\">\n",
       "      <th></th>\n",
       "      <th>type</th>\n",
       "      <th>title</th>\n",
       "      <th>director</th>\n",
       "      <th>cast</th>\n",
       "      <th>country</th>\n",
       "      <th>date_added</th>\n",
       "      <th>release_year</th>\n",
       "      <th>rating</th>\n",
       "      <th>duration</th>\n",
       "      <th>categories</th>\n",
       "    </tr>\n",
       "  </thead>\n",
       "  <tbody>\n",
       "    <tr>\n",
       "      <th>0</th>\n",
       "      <td>Movie</td>\n",
       "      <td>The Grand Seduction</td>\n",
       "      <td>Don McKellar</td>\n",
       "      <td>Brendan Gleeson, Taylor Kitsch, Gordon Pinsent</td>\n",
       "      <td>Canada</td>\n",
       "      <td>2021-03-30</td>\n",
       "      <td>2014</td>\n",
       "      <td>13+</td>\n",
       "      <td>113 min</td>\n",
       "      <td>Comedy, Drama</td>\n",
       "    </tr>\n",
       "    <tr>\n",
       "      <th>1</th>\n",
       "      <td>Movie</td>\n",
       "      <td>Take Care Good Night</td>\n",
       "      <td>Girish Joshi</td>\n",
       "      <td>Mahesh Manjrekar, Abhay Mahajan, Sachin Khedekar</td>\n",
       "      <td>India</td>\n",
       "      <td>2021-03-30</td>\n",
       "      <td>2018</td>\n",
       "      <td>13+</td>\n",
       "      <td>110 min</td>\n",
       "      <td>Drama, International</td>\n",
       "    </tr>\n",
       "    <tr>\n",
       "      <th>2</th>\n",
       "      <td>Movie</td>\n",
       "      <td>Secrets of Deception</td>\n",
       "      <td>Josh Webber</td>\n",
       "      <td>Tom Sizemore, Lorenzo Lamas, Robert LaSardo, R...</td>\n",
       "      <td>United States</td>\n",
       "      <td>2021-03-30</td>\n",
       "      <td>2017</td>\n",
       "      <td>13+</td>\n",
       "      <td>74 min</td>\n",
       "      <td>Action, Drama, Suspense</td>\n",
       "    </tr>\n",
       "    <tr>\n",
       "      <th>3</th>\n",
       "      <td>Movie</td>\n",
       "      <td>Pink: Staying True</td>\n",
       "      <td>Sonia Anderson</td>\n",
       "      <td>Interviews with: Pink, Adele, Beyoncé, Britney...</td>\n",
       "      <td>United States</td>\n",
       "      <td>2021-03-30</td>\n",
       "      <td>2014</td>\n",
       "      <td>13+</td>\n",
       "      <td>69 min</td>\n",
       "      <td>Documentary</td>\n",
       "    </tr>\n",
       "    <tr>\n",
       "      <th>4</th>\n",
       "      <td>Movie</td>\n",
       "      <td>Monster Maker</td>\n",
       "      <td>Giles Foster</td>\n",
       "      <td>Harry Dean Stanton, Kieran O'Brien, George Cos...</td>\n",
       "      <td>United Kingdom</td>\n",
       "      <td>2021-03-30</td>\n",
       "      <td>1989</td>\n",
       "      <td>13+</td>\n",
       "      <td>45 min</td>\n",
       "      <td>Drama, Fantasy</td>\n",
       "    </tr>\n",
       "    <tr>\n",
       "      <th>...</th>\n",
       "      <td>...</td>\n",
       "      <td>...</td>\n",
       "      <td>...</td>\n",
       "      <td>...</td>\n",
       "      <td>...</td>\n",
       "      <td>...</td>\n",
       "      <td>...</td>\n",
       "      <td>...</td>\n",
       "      <td>...</td>\n",
       "      <td>...</td>\n",
       "    </tr>\n",
       "    <tr>\n",
       "      <th>9663</th>\n",
       "      <td>Movie</td>\n",
       "      <td>Pride Of The Bowery</td>\n",
       "      <td>Joseph H. Lewis</td>\n",
       "      <td>Leo Gorcey, Bobby Jordan</td>\n",
       "      <td>Unavailable</td>\n",
       "      <td>2021-10-10</td>\n",
       "      <td>1940</td>\n",
       "      <td>7+</td>\n",
       "      <td>60 min</td>\n",
       "      <td>Comedy</td>\n",
       "    </tr>\n",
       "    <tr>\n",
       "      <th>9664</th>\n",
       "      <td>TV Show</td>\n",
       "      <td>Planet Patrol</td>\n",
       "      <td>Unavailable</td>\n",
       "      <td>DICK VOSBURGH, RONNIE STEVENS, LIBBY MORRIS, M...</td>\n",
       "      <td>Unavailable</td>\n",
       "      <td>2021-10-10</td>\n",
       "      <td>2018</td>\n",
       "      <td>13+</td>\n",
       "      <td>4 Seasons</td>\n",
       "      <td>TV Shows</td>\n",
       "    </tr>\n",
       "    <tr>\n",
       "      <th>9665</th>\n",
       "      <td>Movie</td>\n",
       "      <td>Outpost</td>\n",
       "      <td>Steve Barker</td>\n",
       "      <td>Ray Stevenson, Julian Wadham, Richard Brake, M...</td>\n",
       "      <td>Unavailable</td>\n",
       "      <td>2021-10-10</td>\n",
       "      <td>2008</td>\n",
       "      <td>R</td>\n",
       "      <td>90 min</td>\n",
       "      <td>Action</td>\n",
       "    </tr>\n",
       "    <tr>\n",
       "      <th>9666</th>\n",
       "      <td>TV Show</td>\n",
       "      <td>Maradona: Blessed Dream</td>\n",
       "      <td>Unavailable</td>\n",
       "      <td>Esteban Recagno, Ezequiel Stremiz, Luciano Vit...</td>\n",
       "      <td>Unavailable</td>\n",
       "      <td>2021-10-10</td>\n",
       "      <td>2021</td>\n",
       "      <td>TV-MA</td>\n",
       "      <td>1 Season</td>\n",
       "      <td>Drama, Sports</td>\n",
       "    </tr>\n",
       "    <tr>\n",
       "      <th>9667</th>\n",
       "      <td>Movie</td>\n",
       "      <td>Harry Brown</td>\n",
       "      <td>Daniel Barber</td>\n",
       "      <td>Michael Caine, Emily Mortimer, Joseph Gilgun, ...</td>\n",
       "      <td>Unavailable</td>\n",
       "      <td>2021-10-10</td>\n",
       "      <td>2010</td>\n",
       "      <td>R</td>\n",
       "      <td>103 min</td>\n",
       "      <td>Action, Drama, Suspense</td>\n",
       "    </tr>\n",
       "  </tbody>\n",
       "</table>\n",
       "<p>9668 rows × 10 columns</p>\n",
       "</div>"
      ],
      "text/plain": [
       "         type                    title         director  \\\n",
       "0       Movie      The Grand Seduction     Don McKellar   \n",
       "1       Movie     Take Care Good Night     Girish Joshi   \n",
       "2       Movie     Secrets of Deception      Josh Webber   \n",
       "3       Movie       Pink: Staying True   Sonia Anderson   \n",
       "4       Movie            Monster Maker     Giles Foster   \n",
       "...       ...                      ...              ...   \n",
       "9663    Movie      Pride Of The Bowery  Joseph H. Lewis   \n",
       "9664  TV Show            Planet Patrol      Unavailable   \n",
       "9665    Movie                  Outpost     Steve Barker   \n",
       "9666  TV Show  Maradona: Blessed Dream      Unavailable   \n",
       "9667    Movie              Harry Brown    Daniel Barber   \n",
       "\n",
       "                                                   cast         country  \\\n",
       "0        Brendan Gleeson, Taylor Kitsch, Gordon Pinsent          Canada   \n",
       "1      Mahesh Manjrekar, Abhay Mahajan, Sachin Khedekar           India   \n",
       "2     Tom Sizemore, Lorenzo Lamas, Robert LaSardo, R...   United States   \n",
       "3     Interviews with: Pink, Adele, Beyoncé, Britney...   United States   \n",
       "4     Harry Dean Stanton, Kieran O'Brien, George Cos...  United Kingdom   \n",
       "...                                                 ...             ...   \n",
       "9663                           Leo Gorcey, Bobby Jordan     Unavailable   \n",
       "9664  DICK VOSBURGH, RONNIE STEVENS, LIBBY MORRIS, M...     Unavailable   \n",
       "9665  Ray Stevenson, Julian Wadham, Richard Brake, M...     Unavailable   \n",
       "9666  Esteban Recagno, Ezequiel Stremiz, Luciano Vit...     Unavailable   \n",
       "9667  Michael Caine, Emily Mortimer, Joseph Gilgun, ...     Unavailable   \n",
       "\n",
       "     date_added  release_year rating   duration               categories  \n",
       "0    2021-03-30          2014    13+    113 min            Comedy, Drama  \n",
       "1    2021-03-30          2018    13+    110 min     Drama, International  \n",
       "2    2021-03-30          2017    13+     74 min  Action, Drama, Suspense  \n",
       "3    2021-03-30          2014    13+     69 min              Documentary  \n",
       "4    2021-03-30          1989    13+     45 min           Drama, Fantasy  \n",
       "...         ...           ...    ...        ...                      ...  \n",
       "9663 2021-10-10          1940     7+     60 min                   Comedy  \n",
       "9664 2021-10-10          2018    13+  4 Seasons                 TV Shows  \n",
       "9665 2021-10-10          2008      R     90 min                   Action  \n",
       "9666 2021-10-10          2021  TV-MA   1 Season            Drama, Sports  \n",
       "9667 2021-10-10          2010      R    103 min  Action, Drama, Suspense  \n",
       "\n",
       "[9668 rows x 10 columns]"
      ]
     },
     "execution_count": 13,
     "metadata": {},
     "output_type": "execute_result"
    }
   ],
   "source": [
    "df_clean = pd.DataFrame(df)\n",
    "df_clean.to_csv(\"df_clean.csv\")\n",
    "df_clean"
   ]
  },
  {
   "cell_type": "markdown",
   "id": "27193167",
   "metadata": {
    "papermill": {
     "duration": 0.014932,
     "end_time": "2023-07-02T13:46:44.067524",
     "exception": false,
     "start_time": "2023-07-02T13:46:44.052592",
     "status": "completed"
    },
    "tags": []
   },
   "source": [
    "## Exploratory Data Analysis"
   ]
  },
  {
   "cell_type": "code",
   "execution_count": 14,
   "id": "1961cdcb",
   "metadata": {
    "execution": {
     "iopub.execute_input": "2023-07-02T13:46:44.099788Z",
     "iopub.status.busy": "2023-07-02T13:46:44.099058Z",
     "iopub.status.idle": "2023-07-02T13:46:44.109503Z",
     "shell.execute_reply": "2023-07-02T13:46:44.108453Z"
    },
    "papermill": {
     "duration": 0.029261,
     "end_time": "2023-07-02T13:46:44.111899",
     "exception": false,
     "start_time": "2023-07-02T13:46:44.082638",
     "status": "completed"
    },
    "tags": []
   },
   "outputs": [
    {
     "data": {
      "text/plain": [
       "Movie      7814\n",
       "TV Show    1854\n",
       "Name: type, dtype: int64"
      ]
     },
     "execution_count": 14,
     "metadata": {},
     "output_type": "execute_result"
    }
   ],
   "source": [
    "df.type.value_counts()"
   ]
  },
  {
   "cell_type": "code",
   "execution_count": 15,
   "id": "9222225d",
   "metadata": {
    "execution": {
     "iopub.execute_input": "2023-07-02T13:46:44.144230Z",
     "iopub.status.busy": "2023-07-02T13:46:44.143811Z",
     "iopub.status.idle": "2023-07-02T13:46:44.154334Z",
     "shell.execute_reply": "2023-07-02T13:46:44.153212Z"
    },
    "papermill": {
     "duration": 0.029398,
     "end_time": "2023-07-02T13:46:44.156556",
     "exception": false,
     "start_time": "2023-07-02T13:46:44.127158",
     "status": "completed"
    },
    "tags": []
   },
   "outputs": [
    {
     "data": {
      "text/plain": [
       "Movie      0.808233\n",
       "TV Show    0.191767\n",
       "Name: type, dtype: float64"
      ]
     },
     "execution_count": 15,
     "metadata": {},
     "output_type": "execute_result"
    }
   ],
   "source": [
    "df.type.value_counts(normalize=True)"
   ]
  },
  {
   "cell_type": "markdown",
   "id": "086472ae",
   "metadata": {
    "papermill": {
     "duration": 0.014956,
     "end_time": "2023-07-02T13:46:44.186957",
     "exception": false,
     "start_time": "2023-07-02T13:46:44.172001",
     "status": "completed"
    },
    "tags": []
   },
   "source": [
    "### Number of Show Type Variable"
   ]
  },
  {
   "cell_type": "code",
   "execution_count": 16,
   "id": "89252d90",
   "metadata": {
    "execution": {
     "iopub.execute_input": "2023-07-02T13:46:44.220922Z",
     "iopub.status.busy": "2023-07-02T13:46:44.220292Z",
     "iopub.status.idle": "2023-07-02T13:46:44.572272Z",
     "shell.execute_reply": "2023-07-02T13:46:44.571309Z"
    },
    "papermill": {
     "duration": 0.371641,
     "end_time": "2023-07-02T13:46:44.574449",
     "exception": false,
     "start_time": "2023-07-02T13:46:44.202808",
     "status": "completed"
    },
    "tags": []
   },
   "outputs": [
    {
     "data": {
      "text/plain": [
       "[Text(0, 0, '7814'), Text(0, 0, '1854')]"
      ]
     },
     "execution_count": 16,
     "metadata": {},
     "output_type": "execute_result"
    },
    {
     "data": {
      "image/png": "[encoded data removed]",
      "text/plain": [
       "<Figure size 600x600 with 1 Axes>"
      ]
     },
     "metadata": {},
     "output_type": "display_data"
    }
   ],
   "source": [
    "plt.figure(figsize=(6,6))\n",
    "plt.title(\"Value Counts of The Type Variable\")\n",
    "sns.set(style=\"darkgrid\")\n",
    "ax = sns.countplot(x=\"type\", data=df, palette=\"Pastel2\")\n",
    "ax.bar_label(ax.containers[0])"
   ]
  },
  {
   "cell_type": "markdown",
   "id": "5fa736ad",
   "metadata": {
    "papermill": {
     "duration": 0.016486,
     "end_time": "2023-07-02T13:46:44.607562",
     "exception": false,
     "start_time": "2023-07-02T13:46:44.591076",
     "status": "completed"
    },
    "tags": []
   },
   "source": [
    "> As we can see, the most types of shows that have been released on Amazon Prime are movie shows compared to TV shows, specifically movies with 80.82% and TV shows with 19.18%."
   ]
  },
  {
   "cell_type": "markdown",
   "id": "80644bd4",
   "metadata": {
    "papermill": {
     "duration": 0.01748,
     "end_time": "2023-07-02T13:46:44.641220",
     "exception": false,
     "start_time": "2023-07-02T13:46:44.623740",
     "status": "completed"
    },
    "tags": []
   },
   "source": [
    "### Number of Ratings Variable"
   ]
  },
  {
   "cell_type": "code",
   "execution_count": 17,
   "id": "fc935697",
   "metadata": {
    "execution": {
     "iopub.execute_input": "2023-07-02T13:46:44.677220Z",
     "iopub.status.busy": "2023-07-02T13:46:44.676136Z",
     "iopub.status.idle": "2023-07-02T13:46:45.597517Z",
     "shell.execute_reply": "2023-07-02T13:46:45.596464Z"
    },
    "papermill": {
     "duration": 0.942807,
     "end_time": "2023-07-02T13:46:45.600242",
     "exception": false,
     "start_time": "2023-07-02T13:46:44.657435",
     "status": "completed"
    },
    "tags": []
   },
   "outputs": [
    {
     "data": {
      "text/plain": [
       "[Text(0, 0, '2454'),\n",
       " Text(0, 0, '1268'),\n",
       " Text(0, 0, '1243'),\n",
       " Text(0, 0, '1010'),\n",
       " Text(0, 0, '74'),\n",
       " Text(0, 0, '39'),\n",
       " Text(0, 0, '223'),\n",
       " Text(0, 0, '1547'),\n",
       " Text(0, 0, '169'),\n",
       " Text(0, 0, '385'),\n",
       " Text(0, 0, '208'),\n",
       " Text(0, 0, '105'),\n",
       " Text(0, 0, '81'),\n",
       " Text(0, 0, '393'),\n",
       " Text(0, 0, '77'),\n",
       " Text(0, 0, '93'),\n",
       " Text(0, 0, '253'),\n",
       " Text(0, 0, '3'),\n",
       " Text(0, 0, '33'),\n",
       " Text(0, 0, '1'),\n",
       " Text(0, 0, '2'),\n",
       " Text(0, 0, '3'),\n",
       " Text(0, 0, '1'),\n",
       " Text(0, 0, '3')]"
      ]
     },
     "execution_count": 17,
     "metadata": {},
     "output_type": "execute_result"
    },
    {
     "data": {
      "image/png": "[encoded data removed]",
      "text/plain": [
       "<Figure size 3000x600 with 1 Axes>"
      ]
     },
     "metadata": {},
     "output_type": "display_data"
    }
   ],
   "source": [
    "plt.figure(figsize=(30,6))\n",
    "plt.title(\"Value Counts of The Ratings Variable\")\n",
    "sns.set(style=\"darkgrid\")\n",
    "ax = sns.countplot(x=\"rating\", data=df, palette=\"Pastel2\")\n",
    "ax.bar_label(ax.containers[0])"
   ]
  },
  {
   "cell_type": "markdown",
   "id": "5fc4230f",
   "metadata": {
    "papermill": {
     "duration": 0.025219,
     "end_time": "2023-07-02T13:46:45.649230",
     "exception": false,
     "start_time": "2023-07-02T13:46:45.624011",
     "status": "completed"
    },
    "tags": []
   },
   "source": [
    "> Rating of the shows that the most added on Amazon Prime was from 13+ rate"
   ]
  },
  {
   "cell_type": "markdown",
   "id": "1af8c7af",
   "metadata": {
    "papermill": {
     "duration": 0.016721,
     "end_time": "2023-07-02T13:46:45.689826",
     "exception": false,
     "start_time": "2023-07-02T13:46:45.673105",
     "status": "completed"
    },
    "tags": []
   },
   "source": [
    "### Categories"
   ]
  },
  {
   "cell_type": "code",
   "execution_count": 18,
   "id": "156368fa",
   "metadata": {
    "execution": {
     "iopub.execute_input": "2023-07-02T13:46:45.727784Z",
     "iopub.status.busy": "2023-07-02T13:46:45.726995Z",
     "iopub.status.idle": "2023-07-02T13:46:46.136208Z",
     "shell.execute_reply": "2023-07-02T13:46:46.135073Z"
    },
    "papermill": {
     "duration": 0.431259,
     "end_time": "2023-07-02T13:46:46.138949",
     "exception": false,
     "start_time": "2023-07-02T13:46:45.707690",
     "status": "completed"
    },
    "tags": []
   },
   "outputs": [
    {
     "data": {
      "text/plain": [
       "[Text(0, 0, '986'),\n",
       " Text(0, 0, '536'),\n",
       " Text(0, 0, '399'),\n",
       " Text(0, 0, '377'),\n",
       " Text(0, 0, '356')]"
      ]
     },
     "execution_count": 18,
     "metadata": {},
     "output_type": "execute_result"
    },
    {
     "data": {
      "image/png": "[encoded data removed]",
      "text/plain": [
       "<Figure size 1200x300 with 1 Axes>"
      ]
     },
     "metadata": {},
     "output_type": "display_data"
    }
   ],
   "source": [
    "plt.figure(figsize=(12,3))\n",
    "plt.title(\"Value Counts of The Categories Variable\")\n",
    "sns.set(style=\"darkgrid\")\n",
    "ax = sns.countplot(x=\"categories\", data=df, palette=\"Pastel2\", order=df.categories.value_counts().iloc[:5].index)\n",
    "ax.bar_label(ax.containers[0])"
   ]
  },
  {
   "cell_type": "markdown",
   "id": "12eb37e3",
   "metadata": {
    "papermill": {
     "duration": 0.0186,
     "end_time": "2023-07-02T13:46:46.175705",
     "exception": false,
     "start_time": "2023-07-02T13:46:46.157105",
     "status": "completed"
    },
    "tags": []
   },
   "source": [
    "> The drama category is the show category that has been released the most on Amazon Prime."
   ]
  },
  {
   "cell_type": "markdown",
   "id": "3950c28f",
   "metadata": {
    "papermill": {
     "duration": 0.017562,
     "end_time": "2023-07-02T13:46:46.211081",
     "exception": false,
     "start_time": "2023-07-02T13:46:46.193519",
     "status": "completed"
    },
    "tags": []
   },
   "source": [
    "### Number of Show by Country"
   ]
  },
  {
   "cell_type": "code",
   "execution_count": 19,
   "id": "5c4c9a1c",
   "metadata": {
    "execution": {
     "iopub.execute_input": "2023-07-02T13:46:46.249389Z",
     "iopub.status.busy": "2023-07-02T13:46:46.248226Z",
     "iopub.status.idle": "2023-07-02T13:46:46.614107Z",
     "shell.execute_reply": "2023-07-02T13:46:46.612862Z"
    },
    "papermill": {
     "duration": 0.387865,
     "end_time": "2023-07-02T13:46:46.616803",
     "exception": false,
     "start_time": "2023-07-02T13:46:46.228938",
     "status": "completed"
    },
    "tags": []
   },
   "outputs": [
    {
     "data": {
      "text/plain": [
       "[Text(0, 0, '8996'), Text(0, 0, '253'), Text(0, 0, '229'), Text(0, 0, '28')]"
      ]
     },
     "execution_count": 19,
     "metadata": {},
     "output_type": "execute_result"
    },
    {
     "data": {
      "image/png": "[encoded data removed]",
      "text/plain": [
       "<Figure size 1200x200 with 1 Axes>"
      ]
     },
     "metadata": {},
     "output_type": "display_data"
    }
   ],
   "source": [
    "plt.figure(figsize=(12,2))\n",
    "plt.title(\"Value Counts of The Country Variable\")\n",
    "sns.set(style=\"darkgrid\")\n",
    "ax = sns.countplot(x=\"country\", data=df, palette=\"Pastel2\", order=df.country.value_counts().iloc[:4].index)\n",
    "ax.bar_label(ax.containers[0])"
   ]
  },
  {
   "cell_type": "markdown",
   "id": "4fd5c260",
   "metadata": {
    "papermill": {
     "duration": 0.020504,
     "end_time": "2023-07-02T13:46:46.656208",
     "exception": false,
     "start_time": "2023-07-02T13:46:46.635704",
     "status": "completed"
    },
    "tags": []
   },
   "source": [
    "> Based on the data, the top 3 countries that released the most TV shows and movies on Amazon Prime respectively were the United States, India, and the United Kingdom."
   ]
  },
  {
   "cell_type": "markdown",
   "id": "ec1dacfd",
   "metadata": {
    "papermill": {
     "duration": 0.018815,
     "end_time": "2023-07-02T13:46:46.694094",
     "exception": false,
     "start_time": "2023-07-02T13:46:46.675279",
     "status": "completed"
    },
    "tags": []
   },
   "source": [
    "### Number of Show by Director"
   ]
  },
  {
   "cell_type": "code",
   "execution_count": 20,
   "id": "c4db52a3",
   "metadata": {
    "execution": {
     "iopub.execute_input": "2023-07-02T13:46:46.733505Z",
     "iopub.status.busy": "2023-07-02T13:46:46.733124Z",
     "iopub.status.idle": "2023-07-02T13:46:47.180093Z",
     "shell.execute_reply": "2023-07-02T13:46:47.178925Z"
    },
    "papermill": {
     "duration": 0.470005,
     "end_time": "2023-07-02T13:46:47.182798",
     "exception": false,
     "start_time": "2023-07-02T13:46:46.712793",
     "status": "completed"
    },
    "tags": []
   },
   "outputs": [
    {
     "data": {
      "text/plain": [
       "[Text(0, 0, '2082'),\n",
       " Text(0, 0, '113'),\n",
       " Text(0, 0, '61'),\n",
       " Text(0, 0, '37'),\n",
       " Text(0, 0, '34'),\n",
       " Text(0, 0, '30')]"
      ]
     },
     "execution_count": 20,
     "metadata": {},
     "output_type": "execute_result"
    },
    {
     "data": {
      "image/png": "[encoded data removed]",
      "text/plain": [
       "<Figure size 1200x300 with 1 Axes>"
      ]
     },
     "metadata": {},
     "output_type": "display_data"
    }
   ],
   "source": [
    "plt.figure(figsize=(12,3))\n",
    "plt.title(\"Value Counts of The Director Variable\")\n",
    "sns.set(style=\"darkgrid\")\n",
    "ax = sns.countplot(x=\"director\", data=df, palette=\"Pastel2\", order=df.director.value_counts().iloc[:6].index)\n",
    "ax.bar_label(ax.containers[0])"
   ]
  },
  {
   "cell_type": "markdown",
   "id": "624a0eda",
   "metadata": {
    "papermill": {
     "duration": 0.019897,
     "end_time": "2023-07-02T13:46:47.222290",
     "exception": false,
     "start_time": "2023-07-02T13:46:47.202393",
     "status": "completed"
    },
    "tags": []
   },
   "source": [
    "> Overall, the data shows that a director named Mark Night is the director who produces the most shows released on Amazon Prime, namely 113 shows."
   ]
  },
  {
   "cell_type": "markdown",
   "id": "d50e2cb4",
   "metadata": {
    "papermill": {
     "duration": 0.019168,
     "end_time": "2023-07-02T13:46:47.260944",
     "exception": false,
     "start_time": "2023-07-02T13:46:47.241776",
     "status": "completed"
    },
    "tags": []
   },
   "source": [
    "### Date Added by Show"
   ]
  },
  {
   "cell_type": "code",
   "execution_count": 21,
   "id": "29577a44",
   "metadata": {
    "execution": {
     "iopub.execute_input": "2023-07-02T13:46:47.302310Z",
     "iopub.status.busy": "2023-07-02T13:46:47.301605Z",
     "iopub.status.idle": "2023-07-02T13:46:48.317873Z",
     "shell.execute_reply": "2023-07-02T13:46:48.317109Z"
    },
    "papermill": {
     "duration": 1.039489,
     "end_time": "2023-07-02T13:46:48.319874",
     "exception": false,
     "start_time": "2023-07-02T13:46:47.280385",
     "status": "completed"
    },
    "tags": []
   },
   "outputs": [
    {
     "data": {
      "text/plain": [
       "(array([18718., 18748., 18779., 18809., 18840., 18871., 18901.]),\n",
       " [Text(18718.0, 0, '2021-04'),\n",
       "  Text(18748.0, 0, '2021-05'),\n",
       "  Text(18779.0, 0, '2021-06'),\n",
       "  Text(18809.0, 0, '2021-07'),\n",
       "  Text(18840.0, 0, '2021-08'),\n",
       "  Text(18871.0, 0, '2021-09'),\n",
       "  Text(18901.0, 0, '2021-10')])"
      ]
     },
     "execution_count": 21,
     "metadata": {},
     "output_type": "execute_result"
    },
    {
     "data": {
      "image/png": "[encoded data removed]",
      "text/plain": [
       "<Figure size 500x500 with 1 Axes>"
      ]
     },
     "metadata": {},
     "output_type": "display_data"
    }
   ],
   "source": [
    "sns.set(style='darkgrid')\n",
    "sns.displot(data = df ,x=\"date_added\")\n",
    "plt.xticks(rotation = 45, ha = 'right')"
   ]
  },
  {
   "cell_type": "markdown",
   "id": "a6e3bec5",
   "metadata": {
    "papermill": {
     "duration": 0.020316,
     "end_time": "2023-07-02T13:46:48.360379",
     "exception": false,
     "start_time": "2023-07-02T13:46:48.340063",
     "status": "completed"
    },
    "tags": []
   },
   "source": [
    "### Number of Show Year by Year"
   ]
  },
  {
   "cell_type": "code",
   "execution_count": 22,
   "id": "a13931a6",
   "metadata": {
    "execution": {
     "iopub.execute_input": "2023-07-02T13:46:48.403033Z",
     "iopub.status.busy": "2023-07-02T13:46:48.402050Z",
     "iopub.status.idle": "2023-07-02T13:46:49.226533Z",
     "shell.execute_reply": "2023-07-02T13:46:49.225603Z"
    },
    "papermill": {
     "duration": 0.848057,
     "end_time": "2023-07-02T13:46:49.228796",
     "exception": false,
     "start_time": "2023-07-02T13:46:48.380739",
     "status": "completed"
    },
    "tags": []
   },
   "outputs": [
    {
     "data": {
      "image/png": "[encoded data removed]",
      "text/plain": [
       "<Figure size 800x400 with 1 Axes>"
      ]
     },
     "metadata": {},
     "output_type": "display_data"
    }
   ],
   "source": [
    "sns.set(style='darkgrid')\n",
    "ax = sns.displot(data = df ,x=\"release_year\", height=4,aspect=2)"
   ]
  },
  {
   "cell_type": "markdown",
   "id": "9a3166a1",
   "metadata": {
    "papermill": {
     "duration": 0.020418,
     "end_time": "2023-07-02T13:46:49.269957",
     "exception": false,
     "start_time": "2023-07-02T13:46:49.249539",
     "status": "completed"
    },
    "tags": []
   },
   "source": [
    "> Shows that released the most on Amazon Prime were from year of 2021"
   ]
  }
 ],
 "metadata": {
  "kernelspec": {
   "display_name": "Python 3",
   "language": "python",
   "name": "python3"
  },
  "language_info": {
   "codemirror_mode": {
    "name": "ipython",
    "version": 3
   },
   "file_extension": ".py",
   "mimetype": "text/x-python",
   "name": "python",
   "nbconvert_exporter": "python",
   "pygments_lexer": "ipython3",
   "version": "3.10.10"
  },
  "papermill": {
   "default_parameters": {},
   "duration": 21.514135,
   "end_time": "2023-07-02T13:46:50.314385",
   "environment_variables": {},
   "exception": null,
   "input_path": "__notebook__.ipynb",
   "output_path": "__notebook__.ipynb",
   "parameters": {},
   "start_time": "2023-07-02T13:46:28.800250",
   "version": "2.4.0"
  }
 },
 "nbformat": 4,
 "nbformat_minor": 5
}
